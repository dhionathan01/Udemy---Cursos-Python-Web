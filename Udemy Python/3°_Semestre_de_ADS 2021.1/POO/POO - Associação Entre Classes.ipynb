{
 "cells": [
  {
   "cell_type": "code",
   "execution_count": 11,
   "id": "designed-venture",
   "metadata": {},
   "outputs": [],
   "source": [
    "class Motor:\n",
    "    def __init__(self, cilindros, cavalos, giroAtual):\n",
    "        self.cilindros = cilindros\n",
    "        self.cavalos = cavalos\n",
    "        self.giroAtual = giroAtual\n",
    "    \n",
    "    def acelerar(self, velocidade):\n",
    "        self.giroAtual = self.giroAtual + velocidade\n",
    "        \n"
   ]
  },
  {
   "cell_type": "code",
   "execution_count": 12,
   "id": "weird-infection",
   "metadata": {},
   "outputs": [],
   "source": [
    "class Carro:\n",
    "    def __init__(self, marca, motor):\n",
    "        self.marca = marca\n",
    "        self.motor = motor\n",
    "       \n",
    "    def acelerar(self, velocidade):\n",
    "        self.motor.acelerar(velocidade)"
   ]
  },
  {
   "cell_type": "code",
   "execution_count": 16,
   "id": "middle-payday",
   "metadata": {},
   "outputs": [],
   "source": [
    "motor = Motor(4, 92, 1000)"
   ]
  },
  {
   "cell_type": "code",
   "execution_count": 17,
   "id": "hispanic-excerpt",
   "metadata": {},
   "outputs": [],
   "source": [
    "carro = Carro(\"WV\", motor)\n",
    "\n"
   ]
  },
  {
   "cell_type": "code",
   "execution_count": 20,
   "id": "persistent-andrew",
   "metadata": {},
   "outputs": [
    {
     "name": "stdout",
     "output_type": "stream",
     "text": [
      "2000\n",
      "3000\n"
     ]
    }
   ],
   "source": [
    "print(carro.motor.giroAtual)\n",
    "carro.acelerar(1000)\n",
    "print(carro.motor.giroAtual)"
   ]
  },
  {
   "cell_type": "code",
   "execution_count": 22,
   "id": "composed-prophet",
   "metadata": {},
   "outputs": [],
   "source": [
    "class Livro:\n",
    "    def __init__(self, titulo):\n",
    "        self.titulo = titulo\n",
    "        self.numeroDeCapitulos = 0\n",
    "        self.capitulos = []\n",
    "   \n",
    "    def adicionarCapitulo(self, capitulo):\n",
    "        self.capitulos.append(capitulo)\n",
    "        self.numeroDeCapitulos+=1\n"
   ]
  },
  {
   "cell_type": "code",
   "execution_count": 24,
   "id": "posted-series",
   "metadata": {},
   "outputs": [],
   "source": [
    "class Capitulo:\n",
    "    def __init__(self, titulo):\n",
    "        self.titulo = titulo"
   ]
  },
  {
   "cell_type": "code",
   "execution_count": 29,
   "id": "intellectual-justice",
   "metadata": {},
   "outputs": [],
   "source": [
    "livro = Livro(\"Minha Jornada com o Python\")\n",
    "capitulo1 = Capitulo(\"Hello World\")\n",
    "livro.adicionarCapitulo(capitulo1)\n",
    "capitulo2 = Capitulo(\"Variáveis\")\n",
    "livro.adicionarCapitulo(capitulo2)\n",
    "capitulo3 = Capitulo(\"Condicionais e Loops\")\n",
    "livro.adicionarCapitulo(capitulo3)\n",
    "capitulo4 = Capitulo(\"List e Dict\")\n",
    "livro.adicionarCapitulo(capitulo4)\n",
    "capitulo5 = Capitulo(\"Strings e Arquivos\")\n",
    "livro.adicionarCapitulo(capitulo5)\n",
    "capitulo6 = Capitulo(\"Orientação a Objeto\")\n",
    "livro.adicionarCapitulo(capitulo6)\n",
    "\n",
    "\n"
   ]
  },
  {
   "cell_type": "code",
   "execution_count": 32,
   "id": "ranging-southwest",
   "metadata": {},
   "outputs": [
    {
     "name": "stdout",
     "output_type": "stream",
     "text": [
      "6\n"
     ]
    }
   ],
   "source": [
    "print(livro.numeroDeCapitulos)"
   ]
  }
 ],
 "metadata": {
  "kernelspec": {
   "display_name": "Python 3",
   "language": "python",
   "name": "python3"
  },
  "language_info": {
   "codemirror_mode": {
    "name": "ipython",
    "version": 3
   },
   "file_extension": ".py",
   "mimetype": "text/x-python",
   "name": "python",
   "nbconvert_exporter": "python",
   "pygments_lexer": "ipython3",
   "version": "3.8.8"
  }
 },
 "nbformat": 4,
 "nbformat_minor": 5
}
