{
 "cells": [
  {
   "cell_type": "markdown",
   "id": "administrative-observation",
   "metadata": {},
   "source": [
    "* 1) A classe Avião poderia ter uma associação com a classe Coordenada Geográfica, pois esta ultima consegue representar a latitude, longitude e permite ainda indicar a distância em km entre duas Coordenada Geográfica     \n",
    "    * Quais atributos e métodos da classe Avião? \n",
    "    * Quais atributos e métodos da classe Coordenada Geográfica? \n",
    "    * Crie um Programa ou um Notebook, onde estão implementadas ambas as classes com seus métodos e associação.\n",
    "    \n",
    "    \n",
    "\n",
    "\n",
    "* 2) Crie um programa para representar funcionários em um sistema de gestão de pessoas. \n",
    "    * Modele as possíveis classes que possam ser utilizadas nesse sistema. com seus métodos e atributos\n",
    "    * Avalie a possibilidade de se utilizar Herança e Polimorfismo\n",
    "    * É necessário que haja pelo menos 1 associação entre as classes\n",
    "    * Cargos ;\n",
    "    Gerente, programador, departamento pessoal, administrativo"
   ]
  },
  {
   "cell_type": "code",
   "execution_count": null,
   "id": "cheap-stephen",
   "metadata": {},
   "outputs": [],
   "source": []
  }
 ],
 "metadata": {
  "kernelspec": {
   "display_name": "Python 3",
   "language": "python",
   "name": "python3"
  },
  "language_info": {
   "codemirror_mode": {
    "name": "ipython",
    "version": 3
   },
   "file_extension": ".py",
   "mimetype": "text/x-python",
   "name": "python",
   "nbconvert_exporter": "python",
   "pygments_lexer": "ipython3",
   "version": "3.8.8"
  }
 },
 "nbformat": 4,
 "nbformat_minor": 5
}
