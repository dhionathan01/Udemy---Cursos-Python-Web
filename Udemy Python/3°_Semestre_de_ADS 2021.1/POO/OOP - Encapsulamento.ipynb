{
 "cells": [
  {
   "cell_type": "markdown",
   "id": "exclusive-watershed",
   "metadata": {},
   "source": [
    "# Encapsulamento\n",
    "\n",
    "Definição da classe pessoa:"
   ]
  },
  {
   "cell_type": "code",
   "execution_count": 50,
   "id": "supreme-cleanup",
   "metadata": {},
   "outputs": [],
   "source": [
    "class Pessoa:\n",
    "    __nome = ''\n",
    "    __idade = 0\n",
    "    __peso = 0.0\n",
    "    __altura = 0.0\n",
    "    \n",
    "    def __init__(self, nome, peso, altura, idade):\n",
    "        self.__nome = nome\n",
    "        self.__peso = peso\n",
    "        self.__altura = altura\n",
    "        self.__idade = idade\n",
    "    \n",
    "    def get_nome(self):\n",
    "        return self.__nome\n",
    "    \n",
    "    def set_nome(self, nome):\n",
    "        self.__nome = nome\n",
    "        \n",
    "    def get_idade(self):\n",
    "        return self.__idade\n",
    "    \n",
    "    def __set_idade(self, idade):\n",
    "        self.__idade = idade\n",
    "    \n",
    "    def get_peso(self):\n",
    "        return self.__peso\n",
    "    \n",
    "    def __set_peso(self, peso):\n",
    "        self.__peso = peso\n",
    "        \n",
    "    def get_altura(self):\n",
    "        return self.__altura\n",
    "    \n",
    "    def _set_altura(self, altura):\n",
    "        self.__altura = altura\n",
    "    \n",
    "    def envelhecer(self):\n",
    "        self.__set_idade(self.__idade + 1)\n",
    "        \n",
    "        if self.__idade < 21:\n",
    "            self._crescer()\n",
    "\n",
    "    def _crescer(self):\n",
    "        self._set_altura(self.__altura + 5)\n",
    "    \n",
    "    def engordar(self, peso):\n",
    "        self.__set_peso(self.__peso + peso)        \n",
    "        \n",
    "    def emagrecer(self, peso):\n",
    "        self.__set_peso(self.__peso - peso)\n",
    "\n",
    "    def imprimir(self):\n",
    "        print(f'Nome: {self.__nome} idade: {self.__idade} peso: {self.__peso} altura: {self.__altura}')\n"
   ]
  },
  {
   "cell_type": "code",
   "execution_count": 44,
   "id": "intense-construction",
   "metadata": {},
   "outputs": [],
   "source": [
    "class Gigante(Pessoa):\n",
    "   \n",
    "    def __init__(self, nome, peso, altura, idade):\n",
    "      super().__init__(nome, peso, altura, idade)\n",
    "\n",
    "    def _crescer(self):\n",
    "       self._set_altura(self.get_altura() + 10)\n",
    "\n",
    "\n"
   ]
  },
  {
   "cell_type": "code",
   "execution_count": 23,
   "id": "composite-whale",
   "metadata": {},
   "outputs": [
    {
     "ename": "TypeError",
     "evalue": "__init__() missing 4 required positional arguments: 'nome', 'peso', 'altura', and 'idade'",
     "output_type": "error",
     "traceback": [
      "\u001b[1;31m---------------------------------------------------------------------------\u001b[0m",
      "\u001b[1;31mTypeError\u001b[0m                                 Traceback (most recent call last)",
      "\u001b[1;32m<ipython-input-23-f202824ee645>\u001b[0m in \u001b[0;36m<module>\u001b[1;34m\u001b[0m\n\u001b[1;32m----> 1\u001b[1;33m \u001b[0mpessoa\u001b[0m \u001b[1;33m=\u001b[0m \u001b[0mPessoa\u001b[0m\u001b[1;33m(\u001b[0m\u001b[1;33m)\u001b[0m\u001b[1;33m\u001b[0m\u001b[1;33m\u001b[0m\u001b[0m\n\u001b[0m\u001b[0;32m      2\u001b[0m \u001b[0mpessoa\u001b[0m\u001b[1;33m.\u001b[0m\u001b[0mnome\u001b[0m \u001b[1;33m=\u001b[0m \u001b[0minput\u001b[0m\u001b[1;33m(\u001b[0m\u001b[1;34m'Digite o Nome :'\u001b[0m\u001b[1;33m)\u001b[0m\u001b[1;33m\u001b[0m\u001b[1;33m\u001b[0m\u001b[0m\n\u001b[0;32m      3\u001b[0m \u001b[0mpessoa\u001b[0m\u001b[1;33m.\u001b[0m\u001b[0midade\u001b[0m \u001b[1;33m=\u001b[0m \u001b[0mint\u001b[0m\u001b[1;33m(\u001b[0m\u001b[0minput\u001b[0m\u001b[1;33m(\u001b[0m\u001b[1;34m'Digite Idade: '\u001b[0m\u001b[1;33m)\u001b[0m\u001b[1;33m)\u001b[0m\u001b[1;33m\u001b[0m\u001b[1;33m\u001b[0m\u001b[0m\n\u001b[0;32m      4\u001b[0m \u001b[0mpessoa\u001b[0m\u001b[1;33m.\u001b[0m\u001b[0mpeso\u001b[0m \u001b[1;33m=\u001b[0m \u001b[0mfloat\u001b[0m\u001b[1;33m(\u001b[0m\u001b[0minput\u001b[0m\u001b[1;33m(\u001b[0m\u001b[1;34m'Digite o peso: '\u001b[0m\u001b[1;33m)\u001b[0m\u001b[1;33m)\u001b[0m\u001b[1;33m\u001b[0m\u001b[1;33m\u001b[0m\u001b[0m\n\u001b[0;32m      5\u001b[0m \u001b[0mpessoa\u001b[0m\u001b[1;33m.\u001b[0m\u001b[0maltura\u001b[0m \u001b[1;33m=\u001b[0m \u001b[0mfloat\u001b[0m\u001b[1;33m(\u001b[0m\u001b[0minput\u001b[0m\u001b[1;33m(\u001b[0m\u001b[1;34m'Digite a altura: '\u001b[0m\u001b[1;33m)\u001b[0m\u001b[1;33m)\u001b[0m\u001b[1;33m\u001b[0m\u001b[1;33m\u001b[0m\u001b[0m\n",
      "\u001b[1;31mTypeError\u001b[0m: __init__() missing 4 required positional arguments: 'nome', 'peso', 'altura', and 'idade'"
     ]
    }
   ],
   "source": [
    "pessoa = Pessoa()\n",
    "pessoa.nome = input('Digite o Nome :')\n",
    "pessoa.idade = int(input('Digite Idade: '))\n",
    "pessoa.peso = float(input('Digite o peso: '))\n",
    "pessoa.altura = float(input('Digite a altura: '))\n",
    "pessoa.crescer()\n",
    "pessoa.imprimir()"
   ]
  },
  {
   "cell_type": "code",
   "execution_count": 54,
   "id": "grand-grenada",
   "metadata": {},
   "outputs": [
    {
     "name": "stdout",
     "output_type": "stream",
     "text": [
      "Nome: Bruno idade: 36 peso: 76 altura: 150\n"
     ]
    }
   ],
   "source": [
    "gigante = Pessoa('Bruno', 4, 50, 0)\n",
    "\n",
    "for i in range(36):\n",
    "    gigante.envelhecer()\n",
    "    gigante.engordar(2)    \n",
    "\n",
    "#print(bruno.get_nome())\n",
    "    \n",
    "gigante.imprimir()\n"
   ]
  },
  {
   "cell_type": "code",
   "execution_count": null,
   "id": "running-piece",
   "metadata": {},
   "outputs": [],
   "source": []
  }
 ],
 "metadata": {
  "kernelspec": {
   "display_name": "Python 3",
   "language": "python",
   "name": "python3"
  },
  "language_info": {
   "codemirror_mode": {
    "name": "ipython",
    "version": 3
   },
   "file_extension": ".py",
   "mimetype": "text/x-python",
   "name": "python",
   "nbconvert_exporter": "python",
   "pygments_lexer": "ipython3",
   "version": "3.8.8"
  }
 },
 "nbformat": 4,
 "nbformat_minor": 5
}
