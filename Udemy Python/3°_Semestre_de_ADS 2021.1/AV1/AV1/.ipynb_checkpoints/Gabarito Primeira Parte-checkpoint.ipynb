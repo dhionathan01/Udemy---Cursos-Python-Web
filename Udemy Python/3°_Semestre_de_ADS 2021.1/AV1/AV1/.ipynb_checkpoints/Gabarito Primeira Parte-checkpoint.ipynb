{
 "cells": [
  {
   "cell_type": "markdown",
   "id": "imposed-moderator",
   "metadata": {},
   "source": [
    "# Gabarito Primeira Parte\n",
    "\n",
    "O gabarito completo consiste nos arquivos ``.py `` que estão importados abaixo"
   ]
  },
  {
   "cell_type": "code",
   "execution_count": 1,
   "id": "rapid-jenny",
   "metadata": {},
   "outputs": [],
   "source": [
    "from Models.Funcionario import *\n",
    "from Models.Gerente import *\n",
    "from Models.Departamento import *\n",
    "from DAO.FuncionarioDAO import *\n",
    "from DAO.GerenteDAO import *\n",
    "from DAO.DepartamentoDAO import *"
   ]
  },
  {
   "cell_type": "code",
   "execution_count": 2,
   "id": "industrial-meeting",
   "metadata": {},
   "outputs": [
    {
     "name": "stdout",
     "output_type": "stream",
     "text": [
      "1310.4\n"
     ]
    }
   ],
   "source": [
    "funcionario = Funcionario(4, 'Bruno 4', 123, 'Vendedor', 'Tech', 1200)\n",
    "print(funcionario.calcularSalarioLiquido())"
   ]
  },
  {
   "cell_type": "code",
   "execution_count": 3,
   "id": "burning-motion",
   "metadata": {},
   "outputs": [
    {
     "name": "stdout",
     "output_type": "stream",
     "text": [
      "1608.0\n"
     ]
    }
   ],
   "source": [
    "gerente = Gerente(1, 'Bruno', 123, 'Vendedor', 'Tech', 1200)\n",
    "print(gerente.calcularSalarioLiquido())"
   ]
  },
  {
   "cell_type": "code",
   "execution_count": 4,
   "id": "proof-dallas",
   "metadata": {},
   "outputs": [
    {
     "name": "stdout",
     "output_type": "stream",
     "text": [
      "{'troco': 23, 'montante': 5}\n"
     ]
    }
   ],
   "source": [
    "departamento = Departamento(1, 'Tech', gerente)\n",
    "\n",
    "departamento.iniciarCaixa(23)\n",
    "departamento.registrarVenda(3)\n",
    "departamento.registrarVenda(2)\n",
    "print(departamento.fecharCaixa())\n"
   ]
  },
  {
   "cell_type": "code",
   "execution_count": 5,
   "id": "brave-friend",
   "metadata": {},
   "outputs": [],
   "source": [
    "funcionarioDAO = FuncionarioDAO()"
   ]
  },
  {
   "cell_type": "code",
   "execution_count": null,
   "id": "communist-queue",
   "metadata": {},
   "outputs": [],
   "source": [
    "funcionarioDAO.salvar(funcionario)"
   ]
  },
  {
   "cell_type": "code",
   "execution_count": null,
   "id": "following-diving",
   "metadata": {},
   "outputs": [],
   "source": [
    "funcionario2 = Funcionario(1, 'Bruno UPDATE', 123, 'Vendedor', 'Tech', 1400)\n",
    "funcionarioDAO.atualizar(funcionario2)"
   ]
  },
  {
   "cell_type": "code",
   "execution_count": 6,
   "id": "identified-gasoline",
   "metadata": {},
   "outputs": [
    {
     "name": "stdout",
     "output_type": "stream",
     "text": [
      "Bruno UPDATE\n",
      "Bruno 3\n",
      "Bruno 4\n",
      "Bruno 4\n",
      "1528.8\n"
     ]
    }
   ],
   "source": [
    "funcs = funcionarioDAO.listar()\n",
    "for fun in funcs:\n",
    "    print(fun.getNome())    \n",
    "    \n",
    "print(funcs[0].calcularSalarioLiquido())"
   ]
  },
  {
   "cell_type": "code",
   "execution_count": 8,
   "id": "brutal-expense",
   "metadata": {},
   "outputs": [
    {
     "name": "stdout",
     "output_type": "stream",
     "text": [
      "None\n"
     ]
    }
   ],
   "source": [
    "print(funcionarioDAO.recuperarPoID(6))"
   ]
  },
  {
   "cell_type": "code",
   "execution_count": null,
   "id": "micro-maintenance",
   "metadata": {},
   "outputs": [],
   "source": [
    "funcionario2 = Funcionario(2, 'Bruno UPDATE', 123, 'Vendedor', 'Tech', 1400)\n",
    "funcionarioDAO.deletar(funcionario2)"
   ]
  },
  {
   "cell_type": "code",
   "execution_count": 10,
   "id": "cognitive-victor",
   "metadata": {},
   "outputs": [],
   "source": [
    "gerenteDAO = GerenteDAO()"
   ]
  },
  {
   "cell_type": "code",
   "execution_count": null,
   "id": "healthy-afternoon",
   "metadata": {},
   "outputs": [],
   "source": [
    "gerenteDAO.salvar(gerente)"
   ]
  },
  {
   "cell_type": "code",
   "execution_count": 12,
   "id": "heard-headline",
   "metadata": {},
   "outputs": [
    {
     "name": "stdout",
     "output_type": "stream",
     "text": [
      "1608.0\n"
     ]
    }
   ],
   "source": [
    "gerentes = gerenteDAO.listar()\n",
    "print(gerentes[0].calcularSalarioLiquido())"
   ]
  }
 ],
 "metadata": {
  "kernelspec": {
   "display_name": "Python 3",
   "language": "python",
   "name": "python3"
  },
  "language_info": {
   "codemirror_mode": {
    "name": "ipython",
    "version": 3
   },
   "file_extension": ".py",
   "mimetype": "text/x-python",
   "name": "python",
   "nbconvert_exporter": "python",
   "pygments_lexer": "ipython3",
   "version": "3.8.8"
  }
 },
 "nbformat": 4,
 "nbformat_minor": 5
}
