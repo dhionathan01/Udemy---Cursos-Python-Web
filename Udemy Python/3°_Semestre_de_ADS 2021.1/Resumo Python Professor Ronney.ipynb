{
 "cells": [
  {
   "cell_type": "markdown",
   "id": "attached-hartford",
   "metadata": {},
   "source": [
    "# Declaração de Variáveis\n",
    "\n",
    "Python utiliza do sinal de = para atribuir valores a variáveis. Python é uma linaguagem de tipagem dinâmica, isso significa que ao declararmos uma variável nós não colocamos o tipo de dado dela, o tipo é definido ao atribuírmos o valor a ela."
   ]
  },
  {
   "cell_type": "code",
   "execution_count": 1,
   "id": "consistent-orlando",
   "metadata": {},
   "outputs": [],
   "source": [
    "numero = 42 "
   ]
  },
  {
   "cell_type": "markdown",
   "id": "precious-tulsa",
   "metadata": {},
   "source": [
    "# Estruturas Condicionais\n",
    "Estrutura Condicionais permitem que por meio de uma escolha um grupo de ações e estruturas possam ser executadas quando determinadas condições são ou não satisfeitas. Exemplos disso o if e else.\n",
    "Exemplo um Programa que receba dois números e mostre qual dele é o maior:"
   ]
  },
  {
   "cell_type": "code",
   "execution_count": 2,
   "id": "express-federal",
   "metadata": {},
   "outputs": [
    {
     "name": "stdout",
     "output_type": "stream",
     "text": [
      "Insira o primeiro número: 45\n",
      "Insira o segundo número: 36\n",
      "O maior número é : 45.0\n"
     ]
    }
   ],
   "source": [
    "numero1 = float(input('Insira o primeiro número: '))\n",
    "numero2 = float(input('Insira o segundo número: '))\n",
    "\n",
    "if numero1 > numero2:\n",
    "    print(f'O maior número é : {numero1}')\n",
    "elif numero2 > numero1:\n",
    "    print(f'O maior número inserido foi: {numero2}')\n",
    "else:\n",
    "    print('Os números inseridos possuim o mesmo valor')"
   ]
  },
  {
   "cell_type": "markdown",
   "id": "integrated-naples",
   "metadata": {},
   "source": [
    "# Estruturas de Repetição (Laços)\n",
    "Seu funcionamento é bem parecido com as Estruturas Condicionais, porém como objetivo de executar mais de uma vez o mesmo comando ou conjunto de comandos, de acordo com uma condição ou com um contador o while geralmente usa-se para condições e o for como contador."
   ]
  },
  {
   "cell_type": "markdown",
   "id": "incredible-break",
   "metadata": {},
   "source": [
    "Exemplo de **While** em um programa que leia 10 números inteiros e os armazene em um vetor. Imprima o vetor, o maior elemento ea posição\n",
    "que ele se encontra."
   ]
  },
  {
   "cell_type": "code",
   "execution_count": 3,
   "id": "orange-olympus",
   "metadata": {},
   "outputs": [
    {
     "name": "stdout",
     "output_type": "stream",
     "text": [
      "[8, 58, 48, 98, 22, 98, 11, 1, 85, 23]\n",
      "Maior Número: 98\n",
      "Posição onde o Valor se encontra: 3\n"
     ]
    }
   ],
   "source": [
    "import random\n",
    "\n",
    "vetor = []\n",
    "\n",
    "while len(vetor) < 10:\n",
    "    valor = random.randrange(0, 100)\n",
    "    vetor.append(valor)\n",
    "\n",
    "print(vetor)\n",
    "maior = max(vetor)\n",
    "print(f'Maior Número: {maior}')\n",
    "print(f'Posição onde o Valor se encontra: {vetor.index(maior)}')"
   ]
  },
  {
   "cell_type": "markdown",
   "id": "varying-skiing",
   "metadata": {},
   "source": [
    "Exemplo de **For** em um programa que leia 10 números inteiros e imprima sua média."
   ]
  },
  {
   "cell_type": "code",
   "execution_count": 4,
   "id": "every-auckland",
   "metadata": {},
   "outputs": [
    {
     "name": "stdout",
     "output_type": "stream",
     "text": [
      "Digite o 1° número : 10\n",
      "Digite o 2° número : 20\n",
      "Digite o 3° número : 30\n",
      "Digite o 4° número : 40\n",
      "Digite o 5° número : 50\n",
      "Digite o 6° número : 60\n",
      "Digite o 7° número : 70\n",
      "Digite o 8° número : 80\n",
      "Digite o 9° número : 90\n",
      "Digite o 10° número : 100\n",
      "Resultado: 55.0\n"
     ]
    }
   ],
   "source": [
    "soma = 0\n",
    "for i in range(1, 11):\n",
    "    valor = int(input('Digite o {}° número : '.format(i)))\n",
    "    soma = soma + valor\n",
    "total = soma/10\n",
    "print(f'Resultado: {total}')"
   ]
  },
  {
   "cell_type": "code",
   "execution_count": null,
   "id": "painted-communist",
   "metadata": {},
   "outputs": [],
   "source": []
  }
 ],
 "metadata": {
  "kernelspec": {
   "display_name": "Python 3",
   "language": "python",
   "name": "python3"
  },
  "language_info": {
   "codemirror_mode": {
    "name": "ipython",
    "version": 3
   },
   "file_extension": ".py",
   "mimetype": "text/x-python",
   "name": "python",
   "nbconvert_exporter": "python",
   "pygments_lexer": "ipython3",
   "version": "3.8.8"
  }
 },
 "nbformat": 4,
 "nbformat_minor": 5
}
