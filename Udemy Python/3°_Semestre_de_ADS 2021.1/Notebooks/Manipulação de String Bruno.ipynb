{
 "cells": [
  {
   "cell_type": "markdown",
   "id": "educational-period",
   "metadata": {},
   "source": [
    "# Manipulação de String\n",
    "\n",
    "Este documento tem por objetivo apresentar o processo de manipulação de String´s utilizando a linguagem de programação de Python, suas particularidades e funções de apoio.\n",
    "\n",
    "Referência:\n",
    "* https://docs.python.org/3/library/string.html\n",
    "* https://developers.google.com/edu/python/strings?hl=pt-br\n",
    "* https://algoritmosempython.com.br/cursos/programacao-python/strings/\n",
    "* https://www.w3schools.com/python/python_strings.asp\n",
    "\n",
    "Lista de Exercício do Google:\n",
    "* https://developers.google.com/edu/python/exercises/basic?hl=pt-br\n",
    "    \n"
   ]
  },
  {
   "cell_type": "markdown",
   "id": "circular-arcade",
   "metadata": {},
   "source": [
    "## O que é uma STRING?\n",
    "\n",
    "É a representação de um texto comum por meio de um conjunto de caracteres que representam um lista ou Array.\n",
    "\n",
    "Como exemplo de String, temos\n",
    "\n",
    "* \"Texto Comum\"\n",
    "* '\"Meu Nome\"'\n",
    "* \"16-03-2021\"\n",
    "* \"19:25\"\n",
    "* \"{'chave':'valor'}\"\n",
    "\n",
    "Para exibir o texto usamos o comando `print`\n",
    "\n",
    "Na maioria das linguagems a String é delimitada por `\"`"
   ]
  },
  {
   "cell_type": "code",
   "execution_count": 5,
   "id": "attached-thomas",
   "metadata": {},
   "outputs": [
    {
     "name": "stdout",
     "output_type": "stream",
     "text": [
      "Texto Comum\n",
      "Bruno Zonovelli\n",
      "16-03-2021\n"
     ]
    }
   ],
   "source": [
    "print(\"Texto Comum\")\n",
    "print(\"Bruno Zonovelli\")\n",
    "print(\"16-03-2021\")"
   ]
  },
  {
   "cell_type": "markdown",
   "id": "involved-tsunami",
   "metadata": {},
   "source": [
    "A string também pode ser delimitada por Aspas Simples"
   ]
  },
  {
   "cell_type": "code",
   "execution_count": 4,
   "id": "daily-differential",
   "metadata": {},
   "outputs": [
    {
     "name": "stdout",
     "output_type": "stream",
     "text": [
      "Texto em Aspas Simples\n"
     ]
    }
   ],
   "source": [
    "print('Texto em Aspas Simples')"
   ]
  },
  {
   "cell_type": "markdown",
   "id": "declared-literacy",
   "metadata": {},
   "source": [
    "### Atribuição\n",
    "O valor de uma string pode ser atribuido a uma variável\n",
    "\n",
    "`texto = \"Conteúdo de uma String\"`"
   ]
  },
  {
   "cell_type": "code",
   "execution_count": 7,
   "id": "joined-isaac",
   "metadata": {},
   "outputs": [
    {
     "name": "stdout",
     "output_type": "stream",
     "text": [
      "Conteúdo de uma STRING\n"
     ]
    }
   ],
   "source": [
    "texto = \"Conteúdo de uma STRING\"\n",
    "print(texto)"
   ]
  },
  {
   "cell_type": "markdown",
   "id": "later-manchester",
   "metadata": {},
   "source": [
    "### Como fazer para imprimir Quebra de Linha?\n",
    "Por exemplo:\n",
    "\n",
    "`O menino quer um burrinho\n",
    "para passear.\n",
    "Um burrinho manso,\n",
    "que não corra nem pule,\n",
    "mas que saiba conversar.`\n",
    "\n",
    "Para informar ao Interpretador Python que a String possui quebra de linha, inicie a variável com `\"\"\"` ou `'''`\n"
   ]
  },
  {
   "cell_type": "code",
   "execution_count": 13,
   "id": "intelligent-target",
   "metadata": {},
   "outputs": [
    {
     "name": "stdout",
     "output_type": "stream",
     "text": [
      "O menino quer um burrinho\n",
      "para passear.\n",
      "Um burrinho manso,\n",
      "que não corra nem pule,\n",
      "mas que saiba conversar.\n"
     ]
    }
   ],
   "source": [
    "poema = \"\"\"O menino quer um burrinho\n",
    "para passear.\n",
    "Um burrinho manso,\n",
    "que não corra nem pule,\n",
    "mas que saiba conversar.\"\"\"\n",
    "\n",
    "print(poema)\n"
   ]
  },
  {
   "cell_type": "code",
   "execution_count": 15,
   "id": "generic-architect",
   "metadata": {},
   "outputs": [
    {
     "name": "stdout",
     "output_type": "stream",
     "text": [
      "O menino quer um burrinho\n",
      "para passear.\n",
      "Um burrinho manso,\n",
      "que não corra nem pule,\n",
      "mas que saiba conversar.\n"
     ]
    }
   ],
   "source": [
    "poema = '''O menino quer um burrinho\n",
    "para passear.\n",
    "Um burrinho manso,\n",
    "que não corra nem pule,\n",
    "mas que saiba conversar.'''\n",
    "\n",
    "print(poema)"
   ]
  },
  {
   "cell_type": "markdown",
   "id": "general-photographer",
   "metadata": {},
   "source": [
    "# Explorando o Poder da STRING como Array\n",
    "\n",
    "Como uma strings é uma sequência de caracteres ela pode ser vista como um Array ou List, possuindo todos os recursos que essa estrutura contêm.\n",
    "\n",
    "Vamos começar com o Básico."
   ]
  },
  {
   "cell_type": "code",
   "execution_count": 40,
   "id": "unlimited-decimal",
   "metadata": {},
   "outputs": [
    {
     "name": "stdout",
     "output_type": "stream",
     "text": [
      "Mussum Ipsum, cacilds vidis litro abertis\n"
     ]
    }
   ],
   "source": [
    "mussum = \"Mussum Ipsum, cacilds vidis litro abertis\"\n",
    "\n",
    "print(mussum)"
   ]
  },
  {
   "attachments": {
    "image.png": {
     "image/png": "[encoded data removed]"
    }
   },
   "cell_type": "markdown",
   "id": "insured-czech",
   "metadata": {},
   "source": [
    "## Como acessar parte do texto.\n",
    "\n",
    "Eu quero exibir somente os 6 primeiros Caracteres.\n",
    "Utiliza-se a notação de List em Python `[0:6]`\n",
    "\n",
    "#### Notação de uso do Array\n",
    "Ao ser percorrer um array em python podemos utilizar o Slice dinâmico que é composto por 3 itens `Inicio`, `Fim`, `Salto`, separados por `:`, todas as informações podem ser omitidas, sendo por padrão:\n",
    "\n",
    "* `Inicio = O primeiro elemento do Array`\n",
    "* `Fim = Ao últmo elemento do Array`\n",
    "* `Salto = 1`\n",
    "\n",
    "Exemplo:\n",
    "`mussum[0:6:1]` Ou seja, iniciando no valor 0, ate a 6 casa saltando de 1 em 1\n",
    "\n",
    "Lembrando que os indices em Python são nos dois sentidos\n",
    "\n",
    "![image.png](attachment:image.png)\n"
   ]
  },
  {
   "cell_type": "code",
   "execution_count": 63,
   "id": "pleasant-brisbane",
   "metadata": {},
   "outputs": [
    {
     "name": "stdout",
     "output_type": "stream",
     "text": [
      "Mussum\n"
     ]
    }
   ],
   "source": [
    "print(mussum[0:6])"
   ]
  },
  {
   "cell_type": "markdown",
   "id": "false-theme",
   "metadata": {},
   "source": [
    "## Como exibir as 6 últimas letras de uma String?"
   ]
  },
  {
   "cell_type": "code",
   "execution_count": 65,
   "id": "forty-bidder",
   "metadata": {},
   "outputs": [
    {
     "name": "stdout",
     "output_type": "stream",
     "text": [
      "abertis\n"
     ]
    }
   ],
   "source": [
    "print(mussum[-7::1])"
   ]
  },
  {
   "cell_type": "markdown",
   "id": "abandoned-tissue",
   "metadata": {},
   "source": [
    "## Desafio\n",
    "Imprimir a String do Fim pro Início, ou seja ao contrário."
   ]
  },
  {
   "cell_type": "code",
   "execution_count": 67,
   "id": "bulgarian-bridge",
   "metadata": {},
   "outputs": [
    {
     "name": "stdout",
     "output_type": "stream",
     "text": [
      "sitreba ortil sidiv sdlicac ,muspI mussuM\n"
     ]
    }
   ],
   "source": [
    "print(mussum[::-1])"
   ]
  },
  {
   "cell_type": "markdown",
   "id": "suited-review",
   "metadata": {},
   "source": [
    "# Formatando um String\n",
    "\n",
    "A formatação de String permiti a adição de valores oriundos de variáveis, que são incorporados durante a execução a uma string já em uso.\n",
    "\n",
    "Podemos utilizar dois modos, o uso do `%`, ou o `format`\n"
   ]
  },
  {
   "cell_type": "markdown",
   "id": "defensive-allowance",
   "metadata": {},
   "source": [
    "#### Utilizando o `%`\n",
    "\n",
    "A diretiva `%` emula o comportamento de formatação observado na linguagem C\n"
   ]
  },
  {
   "cell_type": "code",
   "execution_count": 76,
   "id": "retired-morocco",
   "metadata": {},
   "outputs": [
    {
     "name": "stdout",
     "output_type": "stream",
     "text": [
      "Minha turma, Desenvolvimento em Python, possui 32 alunos, sendo quen no geral 27 assistem a aula, com duração média de 2.52\n"
     ]
    }
   ],
   "source": [
    "total_alunos = 32\n",
    "em_aula = 27\n",
    "nome_turma = \"Desenvolvimento em Python\"\n",
    "duracao = 2.52\n",
    "\n",
    "\n",
    "text = (\"Minha turma, %s, possui %d alunos, sendo quen no geral %d assistem a aula, com duração média de %.2f\" % (nome_turma, total_alunos, em_aula, duracao))\n",
    "print(text)\n"
   ]
  },
  {
   "cell_type": "markdown",
   "id": "respective-brighton",
   "metadata": {},
   "source": [
    "### Utilizando Format\n",
    "\n",
    "A formatação utilizando `%` apesar de possível, é um pouco burocratica, sendo mais comum o uso do `format`"
   ]
  },
  {
   "cell_type": "code",
   "execution_count": 79,
   "id": "offensive-alberta",
   "metadata": {},
   "outputs": [
    {
     "name": "stdout",
     "output_type": "stream",
     "text": [
      "Minha turma, Desenvolvimento em Python, possui 32 alunos, sendo quen no geral 27 assistem a aula, com duração média de 2.52\n"
     ]
    }
   ],
   "source": [
    "outro_texto = \"Minha turma, {}, possui {} alunos, sendo quen no geral {} assistem a aula, com duração média de {}\"\n",
    "\n",
    "print(outro_texto.format(nome_turma, total_alunos, em_aula, duracao))\n"
   ]
  },
  {
   "cell_type": "markdown",
   "id": "popular-pacific",
   "metadata": {},
   "source": [
    "Ao se utlizar o Format é possível se escolher a Ordem com que as varíaveis serão exibidas.\n",
    "Posso utilizar os **Indices** de cada variável, ou seja a ordem em que ela está disposta no format"
   ]
  },
  {
   "cell_type": "code",
   "execution_count": 84,
   "id": "abroad-maria",
   "metadata": {},
   "outputs": [
    {
     "name": "stdout",
     "output_type": "stream",
     "text": [
      "Minha turma, Desenvolvimento em Python, possui 27 alunos, sendo quen no geral 32 assistem a aula, com duração média de 2.52\n"
     ]
    }
   ],
   "source": [
    "text_ordem = \"Minha turma, {0}, possui {2} alunos, sendo quen no geral {1} assistem a aula, com duração média de {3}\"\n",
    "\n",
    "print(text_ordem.format(nome_turma, total_alunos, em_aula, duracao))"
   ]
  },
  {
   "cell_type": "markdown",
   "id": "ignored-tracker",
   "metadata": {},
   "source": [
    "Eu posso definir **nomes** ou valores para os indices"
   ]
  },
  {
   "cell_type": "code",
   "execution_count": 92,
   "id": "green-sewing",
   "metadata": {},
   "outputs": [
    {
     "name": "stdout",
     "output_type": "stream",
     "text": [
      "Minha turma, Python, possui 32 alunos, sendo quen no geral 27 assistem a aula, com duração média de 2.52\n"
     ]
    }
   ],
   "source": [
    "text_valorado = \"Minha turma, {turma}, possui {num_alunos} alunos, sendo quen no geral {ouvintes} assistem a aula, com duração média de {tempo}\"\n",
    "\n",
    "print(text_valorado.format(turma='Python', num_alunos=total_alunos, ouvintes=27, tempo=2.52))"
   ]
  },
  {
   "cell_type": "markdown",
   "id": "romance-grammar",
   "metadata": {},
   "source": [
    "O Format possui uma versão Simplificado, um *suggar*"
   ]
  },
  {
   "cell_type": "code",
   "execution_count": 94,
   "id": "fifteen-judge",
   "metadata": {},
   "outputs": [
    {
     "name": "stdout",
     "output_type": "stream",
     "text": [
      "Minha turma, Desenvolvimento em Python, possui 32 alunos, sendo quen no geral 27 assistem a aula, com duração média de 2.52\n"
     ]
    }
   ],
   "source": [
    "text_doce = f\"Minha turma, {nome_turma}, possui {total_alunos} alunos, sendo quen no geral {em_aula} assistem a aula, com duração média de {duracao}\"\n",
    "\n",
    "print(text_doce)"
   ]
  },
  {
   "cell_type": "markdown",
   "id": "southern-lover",
   "metadata": {},
   "source": [
    "Para mais dicas acesse a documentação oficial\n",
    "* https://docs.python.org/3/library/string.html"
   ]
  },
  {
   "cell_type": "markdown",
   "id": "removable-behavior",
   "metadata": {},
   "source": [
    "# Operações de Quebra e Junção de Strings.\n",
    "\n",
    "O Python possui duas funções a `split` para Quebrar uma String e o `Join` que transforma um Vetor de Strings em uma única\n",
    "String.\n",
    "\n",
    "O `split` transforma uma STRING em um VETOR de Palavras"
   ]
  },
  {
   "cell_type": "code",
   "execution_count": 112,
   "id": "composed-average",
   "metadata": {},
   "outputs": [
    {
     "name": "stdout",
     "output_type": "stream",
     "text": [
      "['Copo', 'furadis', 'é', 'disculpa', 'de', 'bebadis,', 'arcu', 'quam', 'euismod', 'magna.']\n"
     ]
    }
   ],
   "source": [
    "texto_inicial = \"Copo furadis é disculpa de bebadis, arcu quam euismod magna.\"\n",
    "texto_list = texto_inicial.split(\" \")\n",
    "print(texto_list)"
   ]
  },
  {
   "cell_type": "markdown",
   "id": "convinced-bangladesh",
   "metadata": {},
   "source": [
    "O `join` Transforma um VETOR de Palavras em uma STRING "
   ]
  },
  {
   "cell_type": "code",
   "execution_count": 114,
   "id": "powered-cornwall",
   "metadata": {},
   "outputs": [
    {
     "name": "stdout",
     "output_type": "stream",
     "text": [
      "Copo::furadis::é::disculpa::de::bebadis,::arcu::quam::euismod::magna.\n"
     ]
    }
   ],
   "source": [
    "print(\"::\".join(texto_list))"
   ]
  },
  {
   "cell_type": "markdown",
   "id": "convinced-tackle",
   "metadata": {},
   "source": [
    "### Como subistituir uma ocorrência por outra em python?\n",
    "\n",
    "Podemos utlizar a função `replace(valor_antigo, valor_novo, *numero_vezes)`\n",
    "* *valor_antigo* = é o valor a ser substituido\n",
    "* *valor_novo* = é o valor a ser incorporado\n",
    "* *numero_vezes* = Valor opcional que define quantas ocorrências serão consideradas, se não for informado todas as ocorrências serão consideradas"
   ]
  },
  {
   "cell_type": "code",
   "execution_count": 123,
   "id": "younger-longer",
   "metadata": {},
   "outputs": [
    {
     "name": "stdout",
     "output_type": "stream",
     "text": [
      "Copo::furadis::é disculpa de bebadis, arcu quam euismod magna.\n"
     ]
    }
   ],
   "source": [
    "print(texto_inicial.replace(\" \",\"::\",2))"
   ]
  },
  {
   "cell_type": "markdown",
   "id": "hydraulic-criterion",
   "metadata": {},
   "source": [
    "### Outras funções\n",
    "\n",
    "* `startswith()` =  verifica se a String se inicia com um determinado valor\n",
    "* `endstwith()` =  verifica se a String se Termina com um determinado valor\n",
    "* `count()` =  Que contabiliza as ocorrências de uma substring\n",
    "* `upper` = Deixa todo o texto maiusculo\n",
    "* `lower` = deixa todo o texto minusculo"
   ]
  },
  {
   "cell_type": "code",
   "execution_count": 145,
   "id": "collectible-friendly",
   "metadata": {},
   "outputs": [
    {
     "name": "stdout",
     "output_type": "stream",
     "text": [
      "copo furadis é disculpa de bebadis, arcu quam euismod magna.\n",
      "COPO FURADIS É DISCULPA DE BEBADIS, ARCU QUAM EUISMOD MAGNA.\n",
      "True\n",
      "True\n",
      "1\n"
     ]
    }
   ],
   "source": [
    "print(texto_inicial.lower())\n",
    "print(texto_inicial.upper())\n",
    "print(texto_inicial.lower().startswith(\"copo\"))\n",
    "print(texto_inicial.lower().endswith(\".\"))\n",
    "print(texto_inicial.lower().count(\"copo\"))"
   ]
  },
  {
   "cell_type": "markdown",
   "id": "metallic-stereo",
   "metadata": {},
   "source": [
    "### Verificando a Ocorrência de uma substring dentro da string Principal\n",
    "\n",
    "Para verificar se a palavra *leite*  está presente na string eu posso utilizar a estrutura `in`"
   ]
  },
  {
   "cell_type": "markdown",
   "id": "middle-disco",
   "metadata": {},
   "source": [
    "texto_principal = \"Leite de capivaris, leite de mula manquis sem cabeça\"\n",
    "\n",
    "print(\"leite\" in texto_principal)"
   ]
  },
  {
   "cell_type": "markdown",
   "id": "listed-numbers",
   "metadata": {},
   "source": [
    "Verificar se uma substring não está preente utilizamos a estrutura `not in`"
   ]
  },
  {
   "cell_type": "code",
   "execution_count": 156,
   "id": "suffering-block",
   "metadata": {},
   "outputs": [
    {
     "name": "stdout",
     "output_type": "stream",
     "text": [
      "True\n"
     ]
    }
   ],
   "source": [
    "print(\"mussum\" not in texto_principal)"
   ]
  },
  {
   "cell_type": "markdown",
   "id": "reserved-accountability",
   "metadata": {},
   "source": [
    "# Se a String é um Vetor, logo podemos iterar sobre ele."
   ]
  },
  {
   "cell_type": "code",
   "execution_count": 160,
   "id": "willing-variance",
   "metadata": {},
   "outputs": [
    {
     "name": "stdout",
     "output_type": "stream",
     "text": [
      "L\n",
      "e\n",
      "i\n",
      "t\n",
      "e\n",
      " \n",
      "d\n",
      "e\n",
      " \n",
      "c\n",
      "a\n",
      "p\n",
      "i\n",
      "v\n",
      "a\n",
      "r\n",
      "i\n",
      "s\n",
      ",\n",
      " \n",
      "l\n",
      "e\n",
      "i\n",
      "t\n",
      "e\n",
      " \n",
      "d\n",
      "e\n",
      " \n",
      "m\n",
      "u\n",
      "l\n",
      "a\n",
      " \n",
      "m\n",
      "a\n",
      "n\n",
      "q\n",
      "u\n",
      "i\n",
      "s\n",
      " \n",
      "s\n",
      "e\n",
      "m\n",
      " \n",
      "c\n",
      "a\n",
      "b\n",
      "e\n",
      "ç\n",
      "a\n"
     ]
    }
   ],
   "source": [
    "for a in texto_principal:\n",
    "    print(a)"
   ]
  }
 ],
 "metadata": {
  "kernelspec": {
   "display_name": "Python 3",
   "language": "python",
   "name": "python3"
  },
  "language_info": {
   "codemirror_mode": {
    "name": "ipython",
    "version": 3
   },
   "file_extension": ".py",
   "mimetype": "text/x-python",
   "name": "python",
   "nbconvert_exporter": "python",
   "pygments_lexer": "ipython3",
   "version": "3.8.8"
  }
 },
 "nbformat": 4,
 "nbformat_minor": 5
}
