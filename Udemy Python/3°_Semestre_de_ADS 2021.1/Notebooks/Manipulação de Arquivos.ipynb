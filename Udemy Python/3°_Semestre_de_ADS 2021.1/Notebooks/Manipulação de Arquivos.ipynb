{
 "cells": [
  {
   "attachments": {
    "img.jpg": {
     "image/jpeg": "[encoded data removed]"
    }
   },
   "cell_type": "markdown",
   "id": "recovered-favorite",
   "metadata": {},
   "source": [
    "# Manipulação de Arquivos com Python\n",
    "\n",
    "Um arquivo é compsoto de:\n",
    "\n",
    "* Header = Que contêm os metadados do arquivo (como: Nome, Tamanho, Autor e etc...)\n",
    "* Data= É o própprio conteudo do arquivo\n",
    "** End of file (EOF)** um caracter específico que delimita o fim do arquivo.\n",
    "\n",
    "![img.jpg](attachment:img.jpg)\n",
    "\n",
    "### Abrindo um arquivo\n",
    "\n",
    "A abertura de um arquivo pode ser feita utilizando o comando `open(END_ARQUIVO, MODO):\n",
    "\n",
    "* END_ARQUIVO =  É o endereço ou o caminho do arquivo.\n",
    "* MODO = É como eu quero abrir esse arquivo, se não for informado é abertura é feita no modo leitura.\n",
    "\n",
    "Para ler o conteúdo de um arquivo podemos utilizar a função `read()`.\n",
    "\n",
    "A função `read()` aceita um parâmentro opcional de tamanhob uffer de leitura, caso não seja informado a função lê todo o arquivo."
   ]
  },
  {
   "cell_type": "code",
   "execution_count": 2,
   "id": "adapted-bacteria",
   "metadata": {},
   "outputs": [
    {
     "name": "stdout",
     "output_type": "stream",
     "text": [
      "Mussum Ipsum, cacilds vidis litro abertis. Viva Forevis aptent taciti sociosqu ad litora torquent. Nullam volutpat risus nec leo commodo, ut interdum diam laoreet. Sed non consequat odio. Sapien in monti palavris qui num significa nadis i pareci latim. Cevadis im ampola pa arma uma pindureta.\n",
      "\n",
      "Suco de cevadiss deixa as pessoas mais interessantis. Interagi no mÃ©, cursus quis, vehicula ac nisi. Manduma pindureta quium dia nois paga. Mauris nec dolor in eros commodo tempor. Aenean aliquam molestie leo, vitae iaculis nisl.\n"
     ]
    }
   ],
   "source": [
    "file_open = open(\"arquivo.txt\")\n",
    "print(file_open.read())"
   ]
  },
  {
   "cell_type": "markdown",
   "id": "technical-flooring",
   "metadata": {},
   "source": [
    "Lendo somenteLendo somente os primeiros `n` caracteres\n",
    "Como o ponteiro está no final do arquivo, deivdo ao chamammento da função read() na celular anterior,\n",
    "usaremos a função `seek(0)`para colocar ponteiro na posição 0, ou inicial."
   ]
  },
  {
   "cell_type": "code",
   "execution_count": 3,
   "id": "loose-greenhouse",
   "metadata": {},
   "outputs": [
    {
     "name": "stdout",
     "output_type": "stream",
     "text": [
      "Mussum Ipsum\n"
     ]
    }
   ],
   "source": [
    "file_open.seek(0)\n",
    "print(file_open.read(12))"
   ]
  },
  {
   "cell_type": "markdown",
   "id": "blond-prior",
   "metadata": {},
   "source": [
    "### Como fazer uma leitura linha a linha\n",
    "A leitura linha a linha pode ser feita utilizando a função `readline()`"
   ]
  },
  {
   "cell_type": "code",
   "execution_count": 4,
   "id": "chemical-composite",
   "metadata": {},
   "outputs": [
    {
     "name": "stdout",
     "output_type": "stream",
     "text": [
      "Linha 1\n",
      "Mussum Ipsum, cacilds vidis litro abertis. Viva Forevis aptent taciti sociosqu ad litora torquent. Nullam volutpat risus nec leo commodo, ut interdum diam laoreet. Sed non consequat odio. Sapien in monti palavris qui num significa nadis i pareci latim. Cevadis im ampola pa arma uma pindureta.\n",
      "\n",
      "Linha 2\n",
      "\n",
      "\n",
      "Linha 3\n",
      "Suco de cevadiss deixa as pessoas mais interessantis. Interagi no mÃ©, cursus quis, vehicula ac nisi. Manduma pindureta quium dia nois paga. Mauris nec dolor in eros commodo tempor. Aenean aliquam molestie leo, vitae iaculis nisl.\n"
     ]
    }
   ],
   "source": [
    "file_open.seek(0)\n",
    "print(\"Linha 1\")\n",
    "print(file_open.readline())\n",
    "print(\"Linha 2\")\n",
    "print(file_open.readline())\n",
    "print(\"Linha 3\")\n",
    "print(file_open.readline())\n"
   ]
  },
  {
   "cell_type": "markdown",
   "id": "athletic-birmingham",
   "metadata": {},
   "source": [
    "### DESAFIO 1\n",
    "\n",
    "Quebre o conteúdo da variável `file_content` utilizando os caracters de quebra d elinha `\\n` e `\\r`\n"
   ]
  },
  {
   "cell_type": "code",
   "execution_count": 14,
   "id": "strange-jamaica",
   "metadata": {},
   "outputs": [
    {
     "name": "stdout",
     "output_type": "stream",
     "text": [
      "['Mussum Ipsum, cacilds vidis litro abertis. Viva Forevis aptent taciti sociosqu ad litora torquent. Nullam volutpat risus nec leo commodo, ut interdum diam laoreet. Sed non consequat odio. Sapien in monti palavris qui num significa nadis i pareci latim. Cevadis im ampola pa arma uma pindureta.', '', 'Suco de cevadiss deixa as pessoas mais interessantis. Interagi no mÃ©, cursus quis, vehicula ac nisi. Manduma pindureta quium dia nois paga. Mauris nec dolor in eros commodo tempor. Aenean aliquam molestie leo, vitae iaculis nisl.']\n"
     ]
    }
   ],
   "source": [
    "file_open = open('arquivo.txt')\n",
    "file_content = file_open.read()\n",
    "print (file_content.split (\"\\n\"))"
   ]
  },
  {
   "cell_type": "markdown",
   "id": "interstate-fleet",
   "metadata": {},
   "source": [
    "### Desafio 2\n",
    "A Leitura Linha a lInha é uma reptição, e como tal poderia estar ou ser substituida por um loop.\n",
    "Faça a leitura das linhas do arquvio utilizando um loop.\n"
   ]
  },
  {
   "cell_type": "code",
   "execution_count": 26,
   "id": "rational-leadership",
   "metadata": {},
   "outputs": [
    {
     "name": "stdout",
     "output_type": "stream",
     "text": [
      "Mussum Ipsum, cacilds vidis litro abertis. Viva Forevis aptent taciti sociosqu ad litora torquent. Nullam volutpat risus nec leo commodo, ut interdum diam laoreet. Sed non consequat odio. Sapien in monti palavris qui num significa nadis i pareci latim. Cevadis im ampola pa arma uma pindureta.\n",
      "\n",
      "\n",
      "\n",
      "Suco de cevadiss deixa as pessoas mais interessantis. Interagi no mÃ©, cursus quis, vehicula ac nisi. Manduma pindureta quium dia nois paga. Mauris nec dolor in eros commodo tempor. Aenean aliquam molestie leo, vitae iaculis nisl.\n"
     ]
    }
   ],
   "source": [
    "file_open.seek(0)\n",
    "for file_line in file_open:\n",
    "    print(file_line)"
   ]
  },
  {
   "cell_type": "markdown",
   "id": "adjustable-metropolitan",
   "metadata": {},
   "source": [
    "# IMPORTANTE\n",
    "É PRECISO FECHAR O HANDLE DO ARQUIVO.\n",
    "\n",
    "Para isso utilizamos a função `close()`."
   ]
  },
  {
   "cell_type": "code",
   "execution_count": null,
   "id": "stunning-engine",
   "metadata": {},
   "outputs": [],
   "source": [
    "file_open.close()"
   ]
  }
 ],
 "metadata": {
  "kernelspec": {
   "display_name": "Python 3",
   "language": "python",
   "name": "python3"
  },
  "language_info": {
   "codemirror_mode": {
    "name": "ipython",
    "version": 3
   },
   "file_extension": ".py",
   "mimetype": "text/x-python",
   "name": "python",
   "nbconvert_exporter": "python",
   "pygments_lexer": "ipython3",
   "version": "3.8.8"
  }
 },
 "nbformat": 4,
 "nbformat_minor": 5
}
