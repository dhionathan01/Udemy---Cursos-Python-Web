{
 "cells": [
  {
   "cell_type": "markdown",
   "id": "revolutionary-century",
   "metadata": {},
   "source": [
    "# Conhecendo o Jupyter Notebook\n",
    "Meu **primeiro** contato com Jupyter Notebook.\n",
    "* Espero Entender"
   ]
  },
  {
   "cell_type": "code",
   "execution_count": 1,
   "id": "strange-programmer",
   "metadata": {},
   "outputs": [
    {
     "name": "stdout",
     "output_type": "stream",
     "text": [
      "Hello world\n"
     ]
    }
   ],
   "source": [
    "print ('Hello world')"
   ]
  },
  {
   "cell_type": "code",
   "execution_count": null,
   "id": "strategic-laser",
   "metadata": {},
   "outputs": [],
   "source": []
  }
 ],
 "metadata": {
  "kernelspec": {
   "display_name": "Python 3",
   "language": "python",
   "name": "python3"
  },
  "language_info": {
   "codemirror_mode": {
    "name": "ipython",
    "version": 3
   },
   "file_extension": ".py",
   "mimetype": "text/x-python",
   "name": "python",
   "nbconvert_exporter": "python",
   "pygments_lexer": "ipython3",
   "version": "3.8.8"
  }
 },
 "nbformat": 4,
 "nbformat_minor": 5
}
