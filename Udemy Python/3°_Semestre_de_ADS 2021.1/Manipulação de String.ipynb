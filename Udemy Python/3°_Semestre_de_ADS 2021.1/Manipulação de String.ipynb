{
 "cells": [
  {
   "cell_type": "markdown",
   "id": "young-second",
   "metadata": {},
   "source": [
    "# Manipulação de string \n",
    "Este documento tem por objetivo apresentar o processo de manipulação de strings utilizando a linguagem de programação de Python, Suas particularidades e funções de apoio.\n",
    "\n",
    "Referência: \n",
    "* https://docs.python.org/3/library/string.html"
   ]
  },
  {
   "cell_type": "code",
   "execution_count": 10,
   "id": "expired-captain",
   "metadata": {},
   "outputs": [],
   "source": [
    "dia = 16\n",
    "mes = \"Março\""
   ]
  },
  {
   "cell_type": "markdown",
   "id": "fifth-assembly",
   "metadata": {},
   "source": [
    "## Oque é uma string ?\n",
    "\n",
    "É a representação de um texto comum por meio de um conjunto de caracteres que representam um lista ou array.\n",
    "\n",
    "Como exemplo de String, temos:\n",
    "\n",
    "* \"Texto Comum\"\n",
    "* '\"Meu Nome\"'\n",
    "* \"16-03-2021\"\n",
    "* \"19:25\"\n",
    "* \"{'chave':'valor'}\"\n",
    "\n",
    "Para exibir o texto usamos comando `print`"
   ]
  },
  {
   "cell_type": "code",
   "execution_count": 1,
   "id": "banned-publicity",
   "metadata": {},
   "outputs": [
    {
     "name": "stdout",
     "output_type": "stream",
     "text": [
      "Texto Comun\n",
      "Dhionathan Jobim\n",
      "16-03-2021\n"
     ]
    }
   ],
   "source": [
    "print(\"Texto Comun\")\n",
    "print(\"Dhionathan Jobim\")\n",
    "print(\"16-03-2021\")"
   ]
  },
  {
   "cell_type": "markdown",
   "id": "blessed-religious",
   "metadata": {},
   "source": [
    "A string também pode ser delimitada por Aspas Simples"
   ]
  },
  {
   "cell_type": "code",
   "execution_count": 2,
   "id": "affected-ownership",
   "metadata": {},
   "outputs": [
    {
     "name": "stdout",
     "output_type": "stream",
     "text": [
      "Texto em Aspas Simples\n"
     ]
    }
   ],
   "source": [
    "print('Texto em Aspas Simples')"
   ]
  },
  {
   "cell_type": "markdown",
   "id": "prime-sweden",
   "metadata": {},
   "source": [
    "Utilizando o format resumido"
   ]
  },
  {
   "cell_type": "markdown",
   "id": "suspended-water",
   "metadata": {},
   "source": [
    "## Atribuição\n",
    "O Valor de uma string pode ser atribuido a uma variável: \n",
    "\n",
    "texto = \"Conteúdo de uma String\""
   ]
  },
  {
   "cell_type": "code",
   "execution_count": 4,
   "id": "fundamental-wednesday",
   "metadata": {},
   "outputs": [
    {
     "name": "stdout",
     "output_type": "stream",
     "text": [
      "Conteúdo de uma string\n"
     ]
    }
   ],
   "source": [
    "texto = \"Conteúdo de uma string\"\n",
    "print(texto)"
   ]
  },
  {
   "cell_type": "markdown",
   "id": "seventh-alfred",
   "metadata": {},
   "source": [
    "## Como fazer para imprimir  uma Quebra de linha ?\n",
    "\n",
    "Por exemplo:\n",
    "\n",
    "`O menino quer um Burrinho\n",
    "para passear.\n",
    "Um burrinho manso,\n",
    "que não corra nem pule,\n",
    "mas que saiba conversar.`\n",
    "\n",
    "Para  informar ao interpretador Python que a String Possui quebra de linha, inicie a variável com \"\"\" ou '''"
   ]
  },
  {
   "cell_type": "code",
   "execution_count": 5,
   "id": "social-chinese",
   "metadata": {},
   "outputs": [
    {
     "name": "stdout",
     "output_type": "stream",
     "text": [
      "\n",
      "O menino quer um burrinho\n",
      "para passear.\n",
      "Um burrinho manso,\n",
      "que não corra nem pule,\n",
      "mas que saiba conversar.\n",
      "\n"
     ]
    }
   ],
   "source": [
    "poema = '''\n",
    "O menino quer um burrinho\n",
    "para passear.\n",
    "Um burrinho manso,\n",
    "que não corra nem pule,\n",
    "mas que saiba conversar.\n",
    "'''\n",
    "print(poema)"
   ]
  },
  {
   "cell_type": "code",
   "execution_count": 9,
   "id": "emotional-albany",
   "metadata": {},
   "outputs": [
    {
     "name": "stdout",
     "output_type": "stream",
     "text": [
      "\n",
      "O menino quer um burrinho\n",
      "para passear.\n",
      "Um burrinho manso,\n",
      "que não corra nem pule,\n",
      "mas que saiba conversar.\n",
      "\n"
     ]
    }
   ],
   "source": [
    "poema = \"\"\"\n",
    "O menino quer um burrinho\n",
    "para passear.\n",
    "Um burrinho manso,\n",
    "que não corra nem pule,\n",
    "mas que saiba conversar.\n",
    "\"\"\"\n",
    "print(poema)"
   ]
  },
  {
   "cell_type": "code",
   "execution_count": 11,
   "id": "exciting-third",
   "metadata": {},
   "outputs": [
    {
     "name": "stdout",
     "output_type": "stream",
     "text": [
      "Hoje é dia 16 do Mês de Março\n"
     ]
    }
   ],
   "source": [
    "print(f'Hoje é dia {dia} do Mês de {mes}')"
   ]
  },
  {
   "cell_type": "markdown",
   "id": "positive-albuquerque",
   "metadata": {},
   "source": [
    "## Desafio \n",
    "Imprimir a String do Fim pro início, ou seja ao contrário."
   ]
  },
  {
   "cell_type": "code",
   "execution_count": 12,
   "id": "floppy-account",
   "metadata": {},
   "outputs": [
    {
     "name": "stdout",
     "output_type": "stream",
     "text": [
      ".sitreba ortil sidiv sdlicac ,muspI mussuM\n"
     ]
    }
   ],
   "source": [
    "mussum = \"Mussum Ipsum, cacilds vidis litro abertis.\"\n",
    "print(mussum[::-1])"
   ]
  },
  {
   "cell_type": "markdown",
   "id": "animated-reduction",
   "metadata": {},
   "source": [
    "# Operações de Quebra e Junção de Strings\n",
    "O Python Possui duas funções a `Split` para Quenrar uma string e o `Join`que transformar um vetor de strings em uma única string."
   ]
  },
  {
   "cell_type": "code",
   "execution_count": 14,
   "id": "fifth-channel",
   "metadata": {},
   "outputs": [
    {
     "name": "stdout",
     "output_type": "stream",
     "text": [
      "['Copo', 'furadis', 'é', 'disculpa', 'de', 'bebadis,', 'arcu', 'quam', 'euismod', 'magna.']\n"
     ]
    }
   ],
   "source": [
    "texto_inicial = \"Copo furadis é disculpa de bebadis, arcu quam euismod magna.\"\n",
    "texto_list = texto_inicial.split(\" \")\n",
    "print(texto_list)"
   ]
  },
  {
   "cell_type": "markdown",
   "id": "freelance-spectacular",
   "metadata": {},
   "source": [
    "O Join Transforma um VETOR de palavras em uma STRING"
   ]
  },
  {
   "cell_type": "code",
   "execution_count": 15,
   "id": "monthly-arena",
   "metadata": {},
   "outputs": [
    {
     "name": "stdout",
     "output_type": "stream",
     "text": [
      "Copo::furadis::é::disculpa::de::bebadis,::arcu::quam::euismod::magna.\n"
     ]
    }
   ],
   "source": [
    "print(\"::\".join(texto_list))"
   ]
  },
  {
   "cell_type": "code",
   "execution_count": null,
   "id": "lyric-egypt",
   "metadata": {},
   "outputs": [],
   "source": []
  }
 ],
 "metadata": {
  "kernelspec": {
   "display_name": "Python 3",
   "language": "python",
   "name": "python3"
  },
  "language_info": {
   "codemirror_mode": {
    "name": "ipython",
    "version": 3
   },
   "file_extension": ".py",
   "mimetype": "text/x-python",
   "name": "python",
   "nbconvert_exporter": "python",
   "pygments_lexer": "ipython3",
   "version": "3.8.8"
  }
 },
 "nbformat": 4,
 "nbformat_minor": 5
}
