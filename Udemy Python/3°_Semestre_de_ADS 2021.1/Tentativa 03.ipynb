{
 "cells": [
  {
   "cell_type": "markdown",
   "id": "oriented-switzerland",
   "metadata": {},
   "source": [
    "Manipulação de Strings e Arquivos em Python\n",
    "Vence amanhã às 18:00\n",
    "Instruções\n",
    "1) Usando o arquivo texto notas_estudantes.txt escreva um programa que imprime o nome dos alunos que têm média maior que 6\n",
    "\n",
    "\n",
    "\n",
    "2) Usando o arquivo texto notas_estudantes.txt escreva um programa que calcula a média das notas de cada estudante e imprime o nome e a média de cada estudante.\n",
    "\n",
    "\n",
    "3) Usando o arquivo texto notas_estudantes.txt escreva um programa que calcula a nota mínima e máxima de cada estudante e imprima o nome de cada aluno junto com a suam nota máxima e mínima.\n",
    "\n",
    "Devolva um notebook com a sua solução\n"
   ]
  },
  {
   "cell_type": "code",
   "execution_count": 2,
   "id": "warming-price",
   "metadata": {},
   "outputs": [],
   "source": [
    "file_open = open('notas_estudantes.txt')\n",
    "file_content = file_open.read()"
   ]
  },
  {
   "cell_type": "code",
   "execution_count": 3,
   "id": "rotary-czech",
   "metadata": {},
   "outputs": [
    {
     "name": "stdout",
     "output_type": "stream",
     "text": [
      "Helena:2:7:10:\n",
      "Alice:6:1:6:7:5:10:\n",
      "Laura:7:10:8:\n",
      "Manuela:1:10:1:\n",
      "Valentina:6:10:8:2:4:\n",
      "Sophia:4:4:2:\n",
      "Isabella:3:2:7:\n",
      "HeloÃ­sa:7:10:2:5:7:3:1:\n",
      "Luiza:1:3:8:2:\n",
      "JÃºlia:7:6:9:\n",
      "Lorena:2:2:8:3:\n",
      "LÃ­via:10:3:10:\n",
      "Maria:2:8:1:\n",
      "CecÃ­lia:9:7:5:1:\n",
      "EloÃ¡:2:8:1:\n",
      "Giovanna:10:5:7:5:5:10:8:7:8\n",
      "Maria:8:4:1:\n",
      "Maria:1:7:7\n",
      "Mariana:9:5:10:2:9\n",
      "Miguel:2:1:1\n",
      "Arthur:2:1:8\n",
      "Heitor:2:10:4\n",
      "Bernardo:5:5:4:4:7:1\n",
      "Davi:7:2:1\n",
      "ThÃ©o:3:4:7\n",
      "Lorenzo:1:7:8\n",
      "Gabriel:4:7:9:2:6\n",
      "Pedro:6:3:9\n",
      "Benjamin:10:4:5\n",
      "Matheus:9:6:3\n",
      "Lucas:4:6:1\n",
      "Luiza:8:2:7:4:4:3:4\n",
      "Joaquim:7:4:6\n",
      "Samuel:2:3:6\n",
      "Henrique:10:6:2\n",
      "Clara:8:6:4\n",
      "Eduarda:8:10:2:6:10\n",
      "Enzo:1:6:8\n",
      "\n"
     ]
    }
   ],
   "source": [
    "print(file_content)"
   ]
  },
  {
   "cell_type": "code",
   "execution_count": 4,
   "id": "through-currency",
   "metadata": {},
   "outputs": [
    {
     "name": "stdout",
     "output_type": "stream",
     "text": [
      "['Helena:2:7:10:', 'Alice:6:1:6:7:5:10:', 'Laura:7:10:8:', 'Manuela:1:10:1:', 'Valentina:6:10:8:2:4:', 'Sophia:4:4:2:', 'Isabella:3:2:7:', 'HeloÃ\\xadsa:7:10:2:5:7:3:1:', 'Luiza:1:3:8:2:', 'JÃºlia:7:6:9:', 'Lorena:2:2:8:3:', 'LÃ\\xadvia:10:3:10:', 'Maria:2:8:1:', 'CecÃ\\xadlia:9:7:5:1:', 'EloÃ¡:2:8:1:', 'Giovanna:10:5:7:5:5:10:8:7:8', 'Maria:8:4:1:', 'Maria:1:7:7', 'Mariana:9:5:10:2:9', 'Miguel:2:1:1', 'Arthur:2:1:8', 'Heitor:2:10:4', 'Bernardo:5:5:4:4:7:1', 'Davi:7:2:1', 'ThÃ©o:3:4:7', 'Lorenzo:1:7:8', 'Gabriel:4:7:9:2:6', 'Pedro:6:3:9', 'Benjamin:10:4:5', 'Matheus:9:6:3', 'Lucas:4:6:1', 'Luiza:8:2:7:4:4:3:4', 'Joaquim:7:4:6', 'Samuel:2:3:6', 'Henrique:10:6:2', 'Clara:8:6:4', 'Eduarda:8:10:2:6:10', 'Enzo:1:6:8', '']\n"
     ]
    }
   ],
   "source": [
    "des = file_content.split('\\n')\n",
    "print(des)"
   ]
  },
  {
   "cell_type": "code",
   "execution_count": 83,
   "id": "billion-resource",
   "metadata": {},
   "outputs": [
    {
     "name": "stdout",
     "output_type": "stream",
     "text": [
      "39\n"
     ]
    }
   ],
   "source": [
    "print(len(des))"
   ]
  },
  {
   "cell_type": "code",
   "execution_count": 5,
   "id": "banner-excerpt",
   "metadata": {},
   "outputs": [
    {
     "name": "stdout",
     "output_type": "stream",
     "text": [
      "[['Helena', '2', '7', '10', ''], ['Alice', '6', '1', '6', '7', '5', '10', ''], ['Laura', '7', '10', '8', ''], ['Manuela', '1', '10', '1', ''], ['Valentina', '6', '10', '8', '2', '4', ''], ['Sophia', '4', '4', '2', ''], ['Isabella', '3', '2', '7', ''], ['HeloÃ\\xadsa', '7', '10', '2', '5', '7', '3', '1', ''], ['Luiza', '1', '3', '8', '2', ''], ['JÃºlia', '7', '6', '9', ''], ['Lorena', '2', '2', '8', '3', ''], ['LÃ\\xadvia', '10', '3', '10', ''], ['Maria', '2', '8', '1', ''], ['CecÃ\\xadlia', '9', '7', '5', '1', ''], ['EloÃ¡', '2', '8', '1', ''], ['Giovanna', '10', '5', '7', '5', '5', '10', '8', '7', '8'], ['Maria', '8', '4', '1', ''], ['Maria', '1', '7', '7'], ['Mariana', '9', '5', '10', '2', '9'], ['Miguel', '2', '1', '1'], ['Arthur', '2', '1', '8'], ['Heitor', '2', '10', '4'], ['Bernardo', '5', '5', '4', '4', '7', '1'], ['Davi', '7', '2', '1'], ['ThÃ©o', '3', '4', '7'], ['Lorenzo', '1', '7', '8'], ['Gabriel', '4', '7', '9', '2', '6'], ['Pedro', '6', '3', '9'], ['Benjamin', '10', '4', '5'], ['Matheus', '9', '6', '3'], ['Lucas', '4', '6', '1'], ['Luiza', '8', '2', '7', '4', '4', '3', '4'], ['Joaquim', '7', '4', '6'], ['Samuel', '2', '3', '6'], ['Henrique', '10', '6', '2'], ['Clara', '8', '6', '4'], ['Eduarda', '8', '10', '2', '6', '10'], ['Enzo', '1', '6', '8'], ['']]\n"
     ]
    }
   ],
   "source": [
    "lista_de_alunos = []\n",
    "for i in des:\n",
    "    lista_de_alunos.append(i.split(':'))\n",
    "print(lista_de_alunos)"
   ]
  },
  {
   "cell_type": "code",
   "execution_count": null,
   "id": "lucky-timeline",
   "metadata": {},
   "outputs": [],
   "source": []
  },
  {
   "cell_type": "code",
   "execution_count": 6,
   "id": "demanding-rouge",
   "metadata": {},
   "outputs": [
    {
     "name": "stdout",
     "output_type": "stream",
     "text": [
      "['Helena', 'Alice', 'Laura', 'Manuela', 'Valentina', 'Sophia', 'Isabella', 'HeloÃ\\xadsa', 'Luiza', 'JÃºlia', 'Lorena', 'LÃ\\xadvia', 'Maria', 'CecÃ\\xadlia', 'EloÃ¡', 'Giovanna', 'Maria', 'Maria', 'Mariana', 'Miguel', 'Arthur', 'Heitor', 'Bernardo', 'Davi', 'ThÃ©o', 'Lorenzo', 'Gabriel', 'Pedro', 'Benjamin', 'Matheus', 'Lucas', 'Luiza', 'Joaquim', 'Samuel', 'Henrique', 'Clara', 'Eduarda', 'Enzo', '']\n",
      "[['2', '7', '10', ''], ['6', '1', '6', '7', '5', '10', ''], ['7', '10', '8', ''], ['1', '10', '1', ''], ['6', '10', '8', '2', '4', ''], ['4', '4', '2', ''], ['3', '2', '7', ''], ['7', '10', '2', '5', '7', '3', '1', ''], ['1', '3', '8', '2', ''], ['7', '6', '9', ''], ['2', '2', '8', '3', ''], ['10', '3', '10', ''], ['2', '8', '1', ''], ['9', '7', '5', '1', ''], ['2', '8', '1', ''], ['10', '5', '7', '5', '5', '10', '8', '7', '8'], ['8', '4', '1', ''], ['1', '7', '7'], ['9', '5', '10', '2', '9'], ['2', '1', '1'], ['2', '1', '8'], ['2', '10', '4'], ['5', '5', '4', '4', '7', '1'], ['7', '2', '1'], ['3', '4', '7'], ['1', '7', '8'], ['4', '7', '9', '2', '6'], ['6', '3', '9'], ['10', '4', '5'], ['9', '6', '3'], ['4', '6', '1'], ['8', '2', '7', '4', '4', '3', '4'], ['7', '4', '6'], ['2', '3', '6'], ['10', '6', '2'], ['8', '6', '4'], ['8', '10', '2', '6', '10'], ['1', '6', '8'], []]\n"
     ]
    }
   ],
   "source": [
    "alunos = []\n",
    "for aluno in range(len(lista_de_alunos)):\n",
    "    alunos.append(lista_de_alunos[aluno].pop(0))\n",
    "print(alunos)\n",
    "print(lista_de_alunos)"
   ]
  },
  {
   "cell_type": "code",
   "execution_count": 18,
   "id": "funded-prince",
   "metadata": {},
   "outputs": [
    {
     "name": "stdout",
     "output_type": "stream",
     "text": [
      "['Giovanna', '10', '5', '7', '5', '5', '10', '8', '7', '8']\n"
     ]
    },
    {
     "ename": "TypeError",
     "evalue": "unsupported operand type(s) for +: 'int' and 'str'",
     "output_type": "error",
     "traceback": [
      "\u001b[1;31m---------------------------------------------------------------------------\u001b[0m",
      "\u001b[1;31mTypeError\u001b[0m                                 Traceback (most recent call last)",
      "\u001b[1;32m<ipython-input-18-e73f05fd10de>\u001b[0m in \u001b[0;36m<module>\u001b[1;34m\u001b[0m\n\u001b[0;32m      1\u001b[0m \u001b[0mprint\u001b[0m\u001b[1;33m(\u001b[0m\u001b[0mlista_de_alunos\u001b[0m\u001b[1;33m[\u001b[0m\u001b[1;36m15\u001b[0m\u001b[1;33m]\u001b[0m\u001b[1;33m)\u001b[0m\u001b[1;33m\u001b[0m\u001b[1;33m\u001b[0m\u001b[0m\n\u001b[1;32m----> 2\u001b[1;33m \u001b[0msum\u001b[0m\u001b[1;33m(\u001b[0m\u001b[0mlista_de_alunos\u001b[0m\u001b[1;33m[\u001b[0m\u001b[1;36m15\u001b[0m\u001b[1;33m]\u001b[0m\u001b[1;33m)\u001b[0m\u001b[1;33m/\u001b[0m\u001b[0mlen\u001b[0m\u001b[1;33m(\u001b[0m\u001b[0mlista_de_alunos\u001b[0m\u001b[1;33m[\u001b[0m\u001b[1;36m15\u001b[0m\u001b[1;33m]\u001b[0m\u001b[1;33m)\u001b[0m\u001b[1;33m\u001b[0m\u001b[1;33m\u001b[0m\u001b[0m\n\u001b[0m",
      "\u001b[1;31mTypeError\u001b[0m: unsupported operand type(s) for +: 'int' and 'str'"
     ]
    }
   ],
   "source": []
  },
  {
   "cell_type": "code",
   "execution_count": 86,
   "id": "corporate-excuse",
   "metadata": {},
   "outputs": [
    {
     "name": "stdout",
     "output_type": "stream",
     "text": [
      "['2,7,10,', '6,1,6,7,5,10,', '7,10,8,', '1,10,1,', '6,10,8,2,4,', '4,4,2,', '3,2,7,', '7,10,2,5,7,3,1,', '1,3,8,2,', '7,6,9,', '2,2,8,3,', '10,3,10,', '2,8,1,', '9,7,5,1,', '2,8,1,', '10,5,7,5,5,10,8,7,8', '8,4,1,', '1,7,7', '9,5,10,2,9', '2,1,1', '2,1,8', '2,10,4', '5,5,4,4,7,1', '7,2,1', '3,4,7', '1,7,8', '4,7,9,2,6', '6,3,9', '10,4,5', '9,6,3', '4,6,1', '8,2,7,4,4,3,4', '7,4,6', '2,3,6', '10,6,2', '8,6,4', '8,10,2,6,10', '1,6,8', '']\n"
     ]
    }
   ],
   "source": [
    "for i in range(len(lista_de_alunos)):\n",
    "    lista_de_alunos[i] = \",\".join(lista_de_alunos[i])\n",
    "    \n",
    "print(lista_de_alunos)"
   ]
  },
  {
   "cell_type": "code",
   "execution_count": null,
   "id": "fewer-mandate",
   "metadata": {},
   "outputs": [],
   "source": [
    "print"
   ]
  },
  {
   "cell_type": "code",
   "execution_count": 93,
   "id": "partial-tanzania",
   "metadata": {},
   "outputs": [
    {
     "name": "stdout",
     "output_type": "stream",
     "text": [
      "['2', '7', '10', '']\n"
     ]
    },
    {
     "ename": "TypeError",
     "evalue": "unsupported operand type(s) for +: 'int' and 'str'",
     "output_type": "error",
     "traceback": [
      "\u001b[1;31m---------------------------------------------------------------------------\u001b[0m",
      "\u001b[1;31mTypeError\u001b[0m                                 Traceback (most recent call last)",
      "\u001b[1;32m<ipython-input-93-78d8b032b4a2>\u001b[0m in \u001b[0;36m<module>\u001b[1;34m\u001b[0m\n\u001b[0;32m      1\u001b[0m \u001b[0mnotas\u001b[0m \u001b[1;33m=\u001b[0m \u001b[0mlista_de_alunos\u001b[0m\u001b[1;33m[\u001b[0m\u001b[1;36m0\u001b[0m\u001b[1;33m]\u001b[0m\u001b[1;33m.\u001b[0m\u001b[0msplit\u001b[0m\u001b[1;33m(\u001b[0m\u001b[1;34m','\u001b[0m\u001b[1;33m)\u001b[0m\u001b[1;33m\u001b[0m\u001b[1;33m\u001b[0m\u001b[0m\n\u001b[0;32m      2\u001b[0m \u001b[0mprint\u001b[0m\u001b[1;33m(\u001b[0m\u001b[0mnotas\u001b[0m\u001b[1;33m)\u001b[0m\u001b[1;33m\u001b[0m\u001b[1;33m\u001b[0m\u001b[0m\n\u001b[1;32m----> 3\u001b[1;33m \u001b[0msum\u001b[0m\u001b[1;33m(\u001b[0m\u001b[0mnotas\u001b[0m\u001b[1;33m)\u001b[0m\u001b[1;33m\u001b[0m\u001b[1;33m\u001b[0m\u001b[0m\n\u001b[0m",
      "\u001b[1;31mTypeError\u001b[0m: unsupported operand type(s) for +: 'int' and 'str'"
     ]
    }
   ],
   "source": [
    "notas = lista_de_alunos[0].split(',')\n",
    "print(notas)\n",
    "sum(notas)"
   ]
  },
  {
   "cell_type": "code",
   "execution_count": null,
   "id": "flying-intro",
   "metadata": {},
   "outputs": [],
   "source": []
  }
 ],
 "metadata": {
  "kernelspec": {
   "display_name": "Python 3",
   "language": "python",
   "name": "python3"
  },
  "language_info": {
   "codemirror_mode": {
    "name": "ipython",
    "version": 3
   },
   "file_extension": ".py",
   "mimetype": "text/x-python",
   "name": "python",
   "nbconvert_exporter": "python",
   "pygments_lexer": "ipython3",
   "version": "3.8.8"
  }
 },
 "nbformat": 4,
 "nbformat_minor": 5
}
