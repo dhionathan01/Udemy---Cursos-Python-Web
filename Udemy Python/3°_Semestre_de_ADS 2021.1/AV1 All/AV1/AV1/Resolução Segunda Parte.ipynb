{
 "cells": [
  {
   "cell_type": "markdown",
   "id": "incomplete-message",
   "metadata": {},
   "source": [
    "# Resolução Segunda parte\n",
    "\n",
    "O gabarito completo consiste nos arquivos ``.py `` que estão importados abaixo\n",
    "\n",
    "\n",
    "### PARTE A) \n",
    "Para a segunda parte do trabalho vamos avaliar a solução Proposta:\n",
    "A empresa contratou os seguintes funcionários\n",
    "   * Bruno como estagiário para o departamento de Marketing com salário de 500,00\n",
    "   * Ricardo como Gerente para o departamento de Marketing com salário de 5250,00\n",
    "   * Antônio como Vendedor para o departamento Comercial com salário de 2500,00\n",
    "   * Flávio como Gerente para o departamento Comercial com salário de 5200,00\n",
    "   * O departamento de Comercial efetuou as seguintes vendas (Troco inicial 53,00):\n",
    "        * 120,00\n",
    "        * 150,00\n",
    "        * 210,00\n",
    "        * 190,00\n",
    "        * 415,00\n",
    "\t\t\n",
    "   * O departamento de Marketing efetuou as seguintes vendas (Troco inicial 103,00):\n",
    "        * 220,00\n",
    "\t\t* 250,00\n",
    "\t\t* 410,00\n",
    "\t\t* 290,00\n",
    "\t\t* 615,00\n",
    "\t\n",
    "### PARTE B) \n",
    "Após 5 meses de empresa:\n",
    "   * Bruno foi promovido a Analista Junior com Salário de 1500,00.\n",
    "   * Antônio foi desligado da empresa\n",
    "   * Débora foi contratada como vendedora para o departamento comercial com salário de 2500,00\n",
    "\t\n",
    "### Pontuação    \n",
    "Dessa forma execute a sequência de ações necessárias para Cadastrar e salvar nos arquivos correspondentes todas as ações acima.\n",
    "   * A PARTE A (Estanciar o objeto e salvar no Arquivo usando o DAO) Valerá 4 pontos no total \n",
    "   * Cada ação completa da PARTE B (Estanciar o objeto e salvar no Arquivo usando o DAO) Valerá 1 ponto (3 pontos no total)\n",
    "\n",
    "#### PARTE C) \n",
    "Uma solução muito comum no desenvolvimento de sistemas utilizando o Padrão DAO é o uso de métodos de LOAD e PARSER, esses métodos são os responsáveis por receberem um objeto e devolverem uma STRING(PARSE) ou de receberem uma string e devolverem um OBJETO(LOAD), dessa forma altere a classe FUNCIONARIODAO que você desenvolveu criando os métodos PARSE e LOAD, e faça uso deles nos outros métodos.\n",
    "   \n",
    "   * Implementação e Correção (3 pontos)\n"
   ]
  },
  {
   "cell_type": "code",
   "execution_count": 1,
   "id": "incredible-classic",
   "metadata": {},
   "outputs": [],
   "source": [
    "from Models.Funcionario import *\n",
    "from Models.Gerente import *\n",
    "from Models.Departamento import *\n",
    "from DAO.FuncionarioDAO import *\n",
    "from DAO.GerenteDAO import *\n",
    "from DAO.DepartamentoDAO import *"
   ]
  },
  {
   "cell_type": "code",
   "execution_count": null,
   "id": "monthly-cologne",
   "metadata": {},
   "outputs": [],
   "source": []
  }
 ],
 "metadata": {
  "kernelspec": {
   "display_name": "Python 3",
   "language": "python",
   "name": "python3"
  },
  "language_info": {
   "codemirror_mode": {
    "name": "ipython",
    "version": 3
   },
   "file_extension": ".py",
   "mimetype": "text/x-python",
   "name": "python",
   "nbconvert_exporter": "python",
   "pygments_lexer": "ipython3",
   "version": "3.8.8"
  }
 },
 "nbformat": 4,
 "nbformat_minor": 5
}
