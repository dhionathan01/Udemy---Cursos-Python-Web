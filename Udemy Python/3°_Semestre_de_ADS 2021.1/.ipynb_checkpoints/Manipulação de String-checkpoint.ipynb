{
 "cells": [
  {
   "cell_type": "markdown",
   "id": "young-second",
   "metadata": {},
   "source": [
    "# Manipulação de string \n",
    "Este documento tem por objetivo apresentar o processo de manipulação de strings utilizando a linguagem de programação de Python, Suas particularidades e funções de apoio.\n",
    "\n",
    "Referência: \n",
    "* https://docs.python.org/3/library/string.html"
   ]
  },
  {
   "cell_type": "markdown",
   "id": "forward-membrane",
   "metadata": {},
   "source": [
    "## Oque é uma string ?\n",
    "\n",
    "É a representação de um texto comum por meio de um conjunto de caracteres que representam um lista ou array.\n",
    "\n",
    "Como exemplo de String, temos:\n",
    "\n",
    "* \"Texto Comum\"\n",
    "* '\"Meu Nome\"'\n",
    "* \"16-03-2021\"\n",
    "* \"19:25\"\n",
    "* \"{'chave':'valor'}\"\n",
    "\n",
    "Para exibir o texto usamos comando `print`"
   ]
  },
  {
   "cell_type": "code",
   "execution_count": 1,
   "id": "composed-journal",
   "metadata": {},
   "outputs": [
    {
     "name": "stdout",
     "output_type": "stream",
     "text": [
      "Texto Comun\n",
      "Dhionathan Jobim\n",
      "16-03-2021\n"
     ]
    }
   ],
   "source": [
    "print(\"Texto Comun\")\n",
    "print(\"Dhionathan Jobim\")\n",
    "print(\"16-03-2021\")"
   ]
  },
  {
   "cell_type": "markdown",
   "id": "incredible-people",
   "metadata": {},
   "source": [
    "A string também pode ser delimitada por Aspas Simples"
   ]
  },
  {
   "cell_type": "code",
   "execution_count": 2,
   "id": "driven-monaco",
   "metadata": {},
   "outputs": [
    {
     "name": "stdout",
     "output_type": "stream",
     "text": [
      "Texto em Aspas Simples\n"
     ]
    }
   ],
   "source": [
    "print('Texto em Aspas Simples')"
   ]
  },
  {
   "cell_type": "markdown",
   "id": "honey-villa",
   "metadata": {},
   "source": [
    "Utilizando o format resumido"
   ]
  },
  {
   "cell_type": "code",
   "execution_count": null,
   "id": "committed-innocent",
   "metadata": {},
   "outputs": [],
   "source": [
    "print(f'Hoje é dia {dia} do Mês de {mes}')"
   ]
  }
 ],
 "metadata": {
  "kernelspec": {
   "display_name": "Python 3",
   "language": "python",
   "name": "python3"
  },
  "language_info": {
   "codemirror_mode": {
    "name": "ipython",
    "version": 3
   },
   "file_extension": ".py",
   "mimetype": "text/x-python",
   "name": "python",
   "nbconvert_exporter": "python",
   "pygments_lexer": "ipython3",
   "version": "3.8.8"
  }
 },
 "nbformat": 4,
 "nbformat_minor": 5
}
