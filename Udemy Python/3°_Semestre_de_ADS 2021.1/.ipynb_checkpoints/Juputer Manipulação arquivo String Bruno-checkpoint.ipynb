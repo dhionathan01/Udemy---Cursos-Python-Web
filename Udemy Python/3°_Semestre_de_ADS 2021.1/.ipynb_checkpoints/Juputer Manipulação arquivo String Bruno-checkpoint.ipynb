{
 "cells": [
  {
   "cell_type": "markdown",
   "id": "trained-painting",
   "metadata": {},
   "source": [
    "## Exercício 01"
   ]
  },
  {
   "cell_type": "code",
   "execution_count": 107,
   "id": "caring-oklahoma",
   "metadata": {},
   "outputs": [],
   "source": [
    "open_file = open(\"notas_estudantes.txt\")\n",
    "file_content = open_file.read()\n",
    "alunos = []"
   ]
  },
  {
   "cell_type": "code",
   "execution_count": 108,
   "id": "manufactured-cuisine",
   "metadata": {},
   "outputs": [
    {
     "name": "stdout",
     "output_type": "stream",
     "text": [
      "['Helena:2:7:10:', 'Alice:6:1:6:7:5:10:', 'Laura:7:10:8:', 'Manuela:1:10:1:', 'Valentina:6:10:8:2:4:', 'Sophia:4:4:2:', 'Isabella:3:2:7:', 'HeloÃ\\xadsa:7:10:2:5:7:3:1:', 'Luiza:1:3:8:2:', 'JÃºlia:7:6:9:', 'Lorena:2:2:8:3:', 'LÃ\\xadvia:10:3:10:', 'Maria:2:8:1:', 'CecÃ\\xadlia:9:7:5:1:', 'EloÃ¡:2:8:1:', 'Giovanna:10:5:7:5:5:10:8:7:8', 'Maria:8:4:1:', 'Maria:1:7:7', 'Mariana:9:5:10:2:9', 'Miguel:2:1:1', 'Arthur:2:1:8', 'Heitor:2:10:4', 'Bernardo:5:5:4:4:7:1', 'Davi:7:2:1', 'ThÃ©o:3:4:7', 'Lorenzo:1:7:8', 'Gabriel:4:7:9:2:6', 'Pedro:6:3:9', 'Benjamin:10:4:5', 'Matheus:9:6:3', 'Lucas:4:6:1', 'Luiza:8:2:7:4:4:3:4', 'Joaquim:7:4:6', 'Samuel:2:3:6', 'Henrique:10:6:2', 'Clara:8:6:4', 'Eduarda:8:10:2:6:10', 'Enzo:1:6:8', '']\n"
     ]
    }
   ],
   "source": [
    "fragmento = file_content.split('\\n')\n",
    "print(fragmento)"
   ]
  },
  {
   "cell_type": "code",
   "execution_count": 109,
   "id": "noticed-albania",
   "metadata": {},
   "outputs": [
    {
     "data": {
      "text/plain": [
       "0"
      ]
     },
     "execution_count": 109,
     "metadata": {},
     "output_type": "execute_result"
    }
   ],
   "source": [
    "open_file.seek(0)\n"
   ]
  },
  {
   "cell_type": "code",
   "execution_count": 110,
   "id": "living-barcelona",
   "metadata": {},
   "outputs": [
    {
     "name": "stdout",
     "output_type": "stream",
     "text": [
      "Helena\n",
      "Laura\n",
      "Valentina\n",
      "JÃºlia\n",
      "LÃ­via\n",
      "Giovanna\n",
      "Mariana\n",
      "Pedro\n",
      "Benjamin\n",
      "Matheus\n",
      "Henrique\n",
      "Clara\n",
      "Eduarda\n"
     ]
    }
   ],
   "source": [
    "for i in range(len(fragmento)):\n",
    "    alunos.append(open_file.readline().strip('\\n'))\n",
    "for des_frag in range(len(fragmento)):\n",
    "    alunos[des_frag] =  alunos[des_frag].rstrip(':')\n",
    "    alunos[des_frag] =  alunos[des_frag].split(':')\n",
    "for contador in range (len(fragmento)):\n",
    "    for nota in range(1, len(alunos[contador])):\n",
    "        alunos[contador][nota] = int(alunos[contador][nota])\n",
    "for iterador in range(len(fragmento)-1):\n",
    "    if sum(alunos[iterador][1:])/(len(alunos[iterador][1:])) >= 6:\n",
    "        print(alunos[iterador][0])\n",
    "    "
   ]
  },
  {
   "cell_type": "markdown",
   "id": "young-marsh",
   "metadata": {},
   "source": [
    "## Exercício 02"
   ]
  },
  {
   "cell_type": "code",
   "execution_count": 111,
   "id": "spoken-spank",
   "metadata": {},
   "outputs": [
    {
     "name": "stdout",
     "output_type": "stream",
     "text": [
      "Aluno: Helena Média: 6.3\n",
      "Aluno: Alice Média: 5.8\n",
      "Aluno: Laura Média: 8.3\n",
      "Aluno: Manuela Média: 4.0\n",
      "Aluno: Valentina Média: 6.0\n",
      "Aluno: Sophia Média: 3.3\n",
      "Aluno: Isabella Média: 4.0\n",
      "Aluno: HeloÃ­sa Média: 5.0\n",
      "Aluno: Luiza Média: 3.5\n",
      "Aluno: JÃºlia Média: 7.3\n",
      "Aluno: Lorena Média: 3.8\n",
      "Aluno: LÃ­via Média: 7.7\n",
      "Aluno: Maria Média: 3.7\n",
      "Aluno: CecÃ­lia Média: 5.5\n",
      "Aluno: EloÃ¡ Média: 3.7\n",
      "Aluno: Giovanna Média: 7.2\n",
      "Aluno: Maria Média: 4.3\n",
      "Aluno: Maria Média: 5.0\n",
      "Aluno: Mariana Média: 7.0\n",
      "Aluno: Miguel Média: 1.3\n",
      "Aluno: Arthur Média: 3.7\n",
      "Aluno: Heitor Média: 5.3\n",
      "Aluno: Bernardo Média: 4.3\n",
      "Aluno: Davi Média: 3.3\n",
      "Aluno: ThÃ©o Média: 4.7\n",
      "Aluno: Lorenzo Média: 5.3\n",
      "Aluno: Gabriel Média: 5.6\n",
      "Aluno: Pedro Média: 6.0\n",
      "Aluno: Benjamin Média: 6.3\n",
      "Aluno: Matheus Média: 6.0\n",
      "Aluno: Lucas Média: 3.7\n",
      "Aluno: Luiza Média: 4.6\n",
      "Aluno: Joaquim Média: 5.7\n",
      "Aluno: Samuel Média: 3.7\n",
      "Aluno: Henrique Média: 6.0\n",
      "Aluno: Clara Média: 6.0\n",
      "Aluno: Eduarda Média: 7.2\n",
      "Aluno: Enzo Média: 5.0\n"
     ]
    }
   ],
   "source": [
    "for contagem in range(len(fragmento)-1):\n",
    "    media = []\n",
    "    for calculador in range(len(alunos[contagem][1:])):\n",
    "        media.append(sum(alunos[contagem][1:])/len(alunos[contagem][1:]))\n",
    "    print(\"Aluno: {} Média: {:.1f}\".format(alunos[contagem][0], media[calculador]))"
   ]
  },
  {
   "cell_type": "markdown",
   "id": "approved-change",
   "metadata": {},
   "source": [
    "## Exercíco 03"
   ]
  },
  {
   "cell_type": "code",
   "execution_count": 112,
   "id": "understanding-expression",
   "metadata": {},
   "outputs": [
    {
     "name": "stdout",
     "output_type": "stream",
     "text": [
      "Aluno: Helena Maior Nota: 10 Menor Nota: 2\n",
      "Aluno: Alice Maior Nota: 10 Menor Nota: 1\n",
      "Aluno: Laura Maior Nota: 10 Menor Nota: 7\n",
      "Aluno: Manuela Maior Nota: 10 Menor Nota: 1\n",
      "Aluno: Valentina Maior Nota: 10 Menor Nota: 2\n",
      "Aluno: Sophia Maior Nota: 4 Menor Nota: 2\n",
      "Aluno: Isabella Maior Nota: 7 Menor Nota: 2\n",
      "Aluno: HeloÃ­sa Maior Nota: 10 Menor Nota: 1\n",
      "Aluno: Luiza Maior Nota: 8 Menor Nota: 1\n",
      "Aluno: JÃºlia Maior Nota: 9 Menor Nota: 6\n",
      "Aluno: Lorena Maior Nota: 8 Menor Nota: 2\n",
      "Aluno: LÃ­via Maior Nota: 10 Menor Nota: 3\n",
      "Aluno: Maria Maior Nota: 8 Menor Nota: 1\n",
      "Aluno: CecÃ­lia Maior Nota: 9 Menor Nota: 1\n",
      "Aluno: EloÃ¡ Maior Nota: 8 Menor Nota: 1\n",
      "Aluno: Giovanna Maior Nota: 10 Menor Nota: 5\n",
      "Aluno: Maria Maior Nota: 8 Menor Nota: 1\n",
      "Aluno: Maria Maior Nota: 7 Menor Nota: 1\n",
      "Aluno: Mariana Maior Nota: 10 Menor Nota: 2\n",
      "Aluno: Miguel Maior Nota: 2 Menor Nota: 1\n",
      "Aluno: Arthur Maior Nota: 8 Menor Nota: 1\n",
      "Aluno: Heitor Maior Nota: 10 Menor Nota: 2\n",
      "Aluno: Bernardo Maior Nota: 7 Menor Nota: 1\n",
      "Aluno: Davi Maior Nota: 7 Menor Nota: 1\n",
      "Aluno: ThÃ©o Maior Nota: 7 Menor Nota: 3\n",
      "Aluno: Lorenzo Maior Nota: 8 Menor Nota: 1\n",
      "Aluno: Gabriel Maior Nota: 9 Menor Nota: 2\n",
      "Aluno: Pedro Maior Nota: 9 Menor Nota: 3\n",
      "Aluno: Benjamin Maior Nota: 10 Menor Nota: 4\n",
      "Aluno: Matheus Maior Nota: 9 Menor Nota: 3\n",
      "Aluno: Lucas Maior Nota: 6 Menor Nota: 1\n",
      "Aluno: Luiza Maior Nota: 8 Menor Nota: 2\n",
      "Aluno: Joaquim Maior Nota: 7 Menor Nota: 4\n",
      "Aluno: Samuel Maior Nota: 6 Menor Nota: 2\n",
      "Aluno: Henrique Maior Nota: 10 Menor Nota: 2\n",
      "Aluno: Clara Maior Nota: 8 Menor Nota: 4\n",
      "Aluno: Eduarda Maior Nota: 10 Menor Nota: 2\n",
      "Aluno: Enzo Maior Nota: 8 Menor Nota: 1\n"
     ]
    }
   ],
   "source": [
    "for valor in range(len(fragmento)-1):\n",
    "    nota_maxima = max(alunos[valor][1:])\n",
    "    nota_minima = min(alunos[valor][1:])\n",
    "    print (\"Aluno: {} Maior Nota: {} Menor Nota: {}\".format(alunos[valor][0],nota_maxima, nota_minima))"
   ]
  },
  {
   "cell_type": "code",
   "execution_count": null,
   "id": "pediatric-wonder",
   "metadata": {},
   "outputs": [],
   "source": []
  },
  {
   "cell_type": "code",
   "execution_count": null,
   "id": "expected-chinese",
   "metadata": {},
   "outputs": [],
   "source": []
  },
  {
   "cell_type": "code",
   "execution_count": null,
   "id": "exotic-vancouver",
   "metadata": {},
   "outputs": [],
   "source": []
  }
 ],
 "metadata": {
  "kernelspec": {
   "display_name": "Python 3",
   "language": "python",
   "name": "python3"
  },
  "language_info": {
   "codemirror_mode": {
    "name": "ipython",
    "version": 3
   },
   "file_extension": ".py",
   "mimetype": "text/x-python",
   "name": "python",
   "nbconvert_exporter": "python",
   "pygments_lexer": "ipython3",
   "version": "3.8.8"
  }
 },
 "nbformat": 4,
 "nbformat_minor": 5
}
