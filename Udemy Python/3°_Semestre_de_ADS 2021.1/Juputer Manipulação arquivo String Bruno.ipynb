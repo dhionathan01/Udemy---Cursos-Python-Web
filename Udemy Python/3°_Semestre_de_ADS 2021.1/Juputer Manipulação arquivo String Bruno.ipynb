{
 "cells": [
  {
   "cell_type": "markdown",
   "id": "clear-windsor",
   "metadata": {},
   "source": [
    "## Exercício 01"
   ]
  },
  {
   "cell_type": "code",
   "execution_count": 107,
   "id": "caring-oklahoma",
   "metadata": {},
   "outputs": [],
   "source": [
    "open_file = open(\"notas_estudantes.txt\")\n",
    "file_content = open_file.read()\n",
    "alunos = []"
   ]
  },
  {
   "cell_type": "code",
   "execution_count": 108,
   "id": "manufactured-cuisine",
   "metadata": {},
   "outputs": [
    {
     "name": "stdout",
     "output_type": "stream",
     "text": [
      "['Helena:2:7:10:', 'Alice:6:1:6:7:5:10:', 'Laura:7:10:8:', 'Manuela:1:10:1:', 'Valentina:6:10:8:2:4:', 'Sophia:4:4:2:', 'Isabella:3:2:7:', 'HeloÃ\\xadsa:7:10:2:5:7:3:1:', 'Luiza:1:3:8:2:', 'JÃºlia:7:6:9:', 'Lorena:2:2:8:3:', 'LÃ\\xadvia:10:3:10:', 'Maria:2:8:1:', 'CecÃ\\xadlia:9:7:5:1:', 'EloÃ¡:2:8:1:', 'Giovanna:10:5:7:5:5:10:8:7:8', 'Maria:8:4:1:', 'Maria:1:7:7', 'Mariana:9:5:10:2:9', 'Miguel:2:1:1', 'Arthur:2:1:8', 'Heitor:2:10:4', 'Bernardo:5:5:4:4:7:1', 'Davi:7:2:1', 'ThÃ©o:3:4:7', 'Lorenzo:1:7:8', 'Gabriel:4:7:9:2:6', 'Pedro:6:3:9', 'Benjamin:10:4:5', 'Matheus:9:6:3', 'Lucas:4:6:1', 'Luiza:8:2:7:4:4:3:4', 'Joaquim:7:4:6', 'Samuel:2:3:6', 'Henrique:10:6:2', 'Clara:8:6:4', 'Eduarda:8:10:2:6:10', 'Enzo:1:6:8', '']\n"
     ]
    }
   ],
   "source": [
    "fragmento = file_content.split('\\n')\n",
    "print(fragmento)"
   ]
  },
  {
   "cell_type": "code",
   "execution_count": 109,
   "id": "monthly-lexington",
   "metadata": {},
   "outputs": [
    {
     "data": {
      "text/plain": [
       "0"
      ]
     },
     "execution_count": 109,
     "metadata": {},
     "output_type": "execute_result"
    }
   ],
   "source": [
    "open_file.seek(0)\n"
   ]
  },
  {
   "cell_type": "code",
   "execution_count": 110,
   "id": "prerequisite-airline",
   "metadata": {},
   "outputs": [
    {
     "name": "stdout",
     "output_type": "stream",
     "text": [
      "Helena\n",
      "Laura\n",
      "Valentina\n",
      "JÃºlia\n",
      "LÃ­via\n",
      "Giovanna\n",
      "Mariana\n",
      "Pedro\n",
      "Benjamin\n",
      "Matheus\n",
      "Henrique\n",
      "Clara\n",
      "Eduarda\n"
     ]
    }
   ],
   "source": [
    "for i in range(len(fragmento)):\n",
    "    alunos.append(open_file.readline().strip('\\n'))\n",
    "for des_frag in range(len(fragmento)):\n",
    "    alunos[des_frag] =  alunos[des_frag].rstrip(':')\n",
    "    alunos[des_frag] =  alunos[des_frag].split(':')\n",
    "for contador in range (len(fragmento)):\n",
    "    for nota in range(1, len(alunos[contador])):\n",
    "        alunos[contador][nota] = int(alunos[contador][nota])\n",
    "for iterador in range(len(fragmento)-1):\n",
    "    if sum(alunos[iterador][1:])/(len(alunos[iterador][1:])) >= 6:\n",
    "        print(alunos[iterador][0])\n",
    "    "
   ]
  },
  {
   "cell_type": "markdown",
   "id": "marked-denmark",
   "metadata": {},
   "source": [
    "## Exercício 02"
   ]
  },
  {
   "cell_type": "code",
   "execution_count": 111,
   "id": "mediterranean-british",
   "metadata": {},
   "outputs": [
    {
     "name": "stdout",
     "output_type": "stream",
     "text": [
      "Aluno: Helena Média: 6.3\n",
      "Aluno: Alice Média: 5.8\n",
      "Aluno: Laura Média: 8.3\n",
      "Aluno: Manuela Média: 4.0\n",
      "Aluno: Valentina Média: 6.0\n",
      "Aluno: Sophia Média: 3.3\n",
      "Aluno: Isabella Média: 4.0\n",
      "Aluno: HeloÃ­sa Média: 5.0\n",
      "Aluno: Luiza Média: 3.5\n",
      "Aluno: JÃºlia Média: 7.3\n",
      "Aluno: Lorena Média: 3.8\n",
      "Aluno: LÃ­via Média: 7.7\n",
      "Aluno: Maria Média: 3.7\n",
      "Aluno: CecÃ­lia Média: 5.5\n",
      "Aluno: EloÃ¡ Média: 3.7\n",
      "Aluno: Giovanna Média: 7.2\n",
      "Aluno: Maria Média: 4.3\n",
      "Aluno: Maria Média: 5.0\n",
      "Aluno: Mariana Média: 7.0\n",
      "Aluno: Miguel Média: 1.3\n",
      "Aluno: Arthur Média: 3.7\n",
      "Aluno: Heitor Média: 5.3\n",
      "Aluno: Bernardo Média: 4.3\n",
      "Aluno: Davi Média: 3.3\n",
      "Aluno: ThÃ©o Média: 4.7\n",
      "Aluno: Lorenzo Média: 5.3\n",
      "Aluno: Gabriel Média: 5.6\n",
      "Aluno: Pedro Média: 6.0\n",
      "Aluno: Benjamin Média: 6.3\n",
      "Aluno: Matheus Média: 6.0\n",
      "Aluno: Lucas Média: 3.7\n",
      "Aluno: Luiza Média: 4.6\n",
      "Aluno: Joaquim Média: 5.7\n",
      "Aluno: Samuel Média: 3.7\n",
      "Aluno: Henrique Média: 6.0\n",
      "Aluno: Clara Média: 6.0\n",
      "Aluno: Eduarda Média: 7.2\n",
      "Aluno: Enzo Média: 5.0\n"
     ]
    }
   ],
   "source": [
    "for contagem in range(len(fragmento)-1):\n",
    "    media = []\n",
    "    for calculador in range(len(alunos[contagem][1:])):\n",
    "        media.append(sum(alunos[contagem][1:])/len(alunos[contagem][1:]))\n",
    "    print(\"Aluno: {} Média: {:.1f}\".format(alunos[contagem][0], media[calculador]))"
   ]
  },
  {
   "cell_type": "markdown",
   "id": "iraqi-developer",
   "metadata": {},
   "source": [
    "## Exercíco 03"
   ]
  },
  {
   "cell_type": "code",
   "execution_count": 114,
   "id": "later-drawing",
   "metadata": {},
   "outputs": [
    {
     "name": "stdout",
     "output_type": "stream",
     "text": [
      "Aluno:Helena Média: 6.33\n",
      "Aluno:Alice Média: 5.83\n",
      "Aluno:Laura Média: 8.33\n",
      "Aluno:Manuela Média: 4.00\n",
      "Aluno:Valentina Média: 6.00\n",
      "Aluno:Sophia Média: 3.33\n",
      "Aluno:Isabella Média: 4.00\n",
      "Aluno:HeloÃ­sa Média: 5.00\n",
      "Aluno:Luiza Média: 3.50\n",
      "Aluno:JÃºlia Média: 7.33\n",
      "Aluno:Lorena Média: 3.75\n",
      "Aluno:LÃ­via Média: 7.67\n",
      "Aluno:Maria Média: 3.67\n",
      "Aluno:CecÃ­lia Média: 5.50\n",
      "Aluno:EloÃ¡ Média: 3.67\n",
      "Aluno:Giovanna Média: 7.22\n",
      "Aluno:Maria Média: 4.33\n",
      "Aluno:Maria Média: 5.00\n",
      "Aluno:Mariana Média: 7.00\n",
      "Aluno:Miguel Média: 1.33\n",
      "Aluno:Arthur Média: 3.67\n",
      "Aluno:Heitor Média: 5.33\n",
      "Aluno:Bernardo Média: 4.33\n",
      "Aluno:Davi Média: 3.33\n",
      "Aluno:ThÃ©o Média: 4.67\n",
      "Aluno:Lorenzo Média: 5.33\n",
      "Aluno:Gabriel Média: 5.60\n",
      "Aluno:Pedro Média: 6.00\n",
      "Aluno:Benjamin Média: 6.33\n",
      "Aluno:Matheus Média: 6.00\n",
      "Aluno:Lucas Média: 3.67\n",
      "Aluno:Luiza Média: 4.57\n",
      "Aluno:Joaquim Média: 5.67\n",
      "Aluno:Samuel Média: 3.67\n",
      "Aluno:Henrique Média: 6.00\n",
      "Aluno:Clara Média: 6.00\n",
      "Aluno:Eduarda Média: 7.20\n",
      "Aluno:Enzo Média: 5.00\n"
     ]
    }
   ],
   "source": [
    "for contagem in range(len(fragmento)-1):\n",
    "    media = []\n",
    "    for calculador in range(len(alunos[contagem][1:])):\n",
    "        media.append(sum(alunos[contagem][1:])/len(alunos[contagem][1:]))\n",
    "    print(f\"Aluno:{alunos[contagem][0]} Média: {media[calculador]:.2f}\")"
   ]
  },
  {
   "cell_type": "code",
   "execution_count": null,
   "id": "incoming-metabolism",
   "metadata": {},
   "outputs": [],
   "source": []
  },
  {
   "cell_type": "code",
   "execution_count": null,
   "id": "satisfied-sierra",
   "metadata": {},
   "outputs": [],
   "source": []
  },
  {
   "cell_type": "code",
   "execution_count": null,
   "id": "chief-shoulder",
   "metadata": {},
   "outputs": [],
   "source": []
  }
 ],
 "metadata": {
  "kernelspec": {
   "display_name": "Python 3",
   "language": "python",
   "name": "python3"
  },
  "language_info": {
   "codemirror_mode": {
    "name": "ipython",
    "version": 3
   },
   "file_extension": ".py",
   "mimetype": "text/x-python",
   "name": "python",
   "nbconvert_exporter": "python",
   "pygments_lexer": "ipython3",
   "version": "3.8.8"
  }
 },
 "nbformat": 4,
 "nbformat_minor": 5
}
