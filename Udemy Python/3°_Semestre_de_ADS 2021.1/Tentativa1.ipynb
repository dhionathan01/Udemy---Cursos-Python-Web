{
 "cells": [
  {
   "cell_type": "code",
   "execution_count": 2,
   "id": "weird-asthma",
   "metadata": {},
   "outputs": [
    {
     "name": "stdout",
     "output_type": "stream",
     "text": [
      "['helena:2:7:10:', 'alice:6:1:6:7:5:10:', 'laura:7:10:8:', 'manuela:1:10:1:', 'valentina:6:10:8:2:4:', 'sophia:4:4:2:', 'isabella:3:2:7:', 'heloã\\xadsa:7:10:2:5:7:3:1:', 'luiza:1:3:8:2:', 'jãºlia:7:6:9:', 'lorena:2:2:8:3:', 'lã\\xadvia:10:3:10:', 'maria:2:8:1:', 'cecã\\xadlia:9:7:5:1:', 'eloã¡:2:8:1:', 'giovanna:10:5:7:5:5:10:8:7:8', 'maria:8:4:1:', 'maria:1:7:7', 'mariana:9:5:10:2:9', 'miguel:2:1:1', 'arthur:2:1:8', 'heitor:2:10:4', 'bernardo:5:5:4:4:7:1', 'davi:7:2:1', 'thã©o:3:4:7', 'lorenzo:1:7:8', 'gabriel:4:7:9:2:6', 'pedro:6:3:9', 'benjamin:10:4:5', 'matheus:9:6:3', 'lucas:4:6:1', 'luiza:8:2:7:4:4:3:4', 'joaquim:7:4:6', 'samuel:2:3:6', 'henrique:10:6:2', 'clara:8:6:4', 'eduarda:8:10:2:6:10', 'enzo:1:6:8']\n"
     ]
    }
   ],
   "source": [
    "file_open = open('notas_estudantes.txt')\n",
    "file_content = file_open.read().lower().strip().splitlines()\n",
    "print(file_content)"
   ]
  },
  {
   "cell_type": "code",
   "execution_count": 4,
   "id": "imported-amendment",
   "metadata": {},
   "outputs": [
    {
     "name": "stdout",
     "output_type": "stream",
     "text": [
      "helena:2:7:10:\n"
     ]
    }
   ],
   "source": [
    "print(file_content[0])"
   ]
  },
  {
   "cell_type": "code",
   "execution_count": 11,
   "id": "antique-lightning",
   "metadata": {},
   "outputs": [
    {
     "name": "stdout",
     "output_type": "stream",
     "text": [
      "['helena', '2', '7', '10', '']\n"
     ]
    },
    {
     "ename": "TypeError",
     "evalue": "int() argument must be a string, a bytes-like object or a number, not 'list'",
     "output_type": "error",
     "traceback": [
      "\u001b[1;31m---------------------------------------------------------------------------\u001b[0m",
      "\u001b[1;31mTypeError\u001b[0m                                 Traceback (most recent call last)",
      "\u001b[1;32m<ipython-input-11-7bc2fcf731af>\u001b[0m in \u001b[0;36m<module>\u001b[1;34m\u001b[0m\n\u001b[0;32m      2\u001b[0m \u001b[0mprint\u001b[0m\u001b[1;33m(\u001b[0m\u001b[0mdes\u001b[0m\u001b[1;33m)\u001b[0m\u001b[1;33m\u001b[0m\u001b[1;33m\u001b[0m\u001b[0m\n\u001b[0;32m      3\u001b[0m \u001b[1;33m\u001b[0m\u001b[0m\n\u001b[1;32m----> 4\u001b[1;33m \u001b[0mnota\u001b[0m \u001b[1;33m=\u001b[0m \u001b[0mint\u001b[0m\u001b[1;33m(\u001b[0m\u001b[0mdes\u001b[0m\u001b[1;33m[\u001b[0m\u001b[1;36m1\u001b[0m\u001b[1;33m:\u001b[0m\u001b[1;33m-\u001b[0m\u001b[1;36m1\u001b[0m\u001b[1;33m]\u001b[0m\u001b[1;33m)\u001b[0m\u001b[1;33m\u001b[0m\u001b[1;33m\u001b[0m\u001b[0m\n\u001b[0m",
      "\u001b[1;31mTypeError\u001b[0m: int() argument must be a string, a bytes-like object or a number, not 'list'"
     ]
    }
   ],
   "source": [
    "des = file_content[0].split(':')\n",
    "print(des)\n",
    "\n",
    "nota = int(des[1:-1])\n"
   ]
  },
  {
   "cell_type": "code",
   "execution_count": null,
   "id": "cosmetic-bhutan",
   "metadata": {},
   "outputs": [],
   "source": []
  }
 ],
 "metadata": {
  "kernelspec": {
   "display_name": "Python 3",
   "language": "python",
   "name": "python3"
  },
  "language_info": {
   "codemirror_mode": {
    "name": "ipython",
    "version": 3
   },
   "file_extension": ".py",
   "mimetype": "text/x-python",
   "name": "python",
   "nbconvert_exporter": "python",
   "pygments_lexer": "ipython3",
   "version": "3.8.8"
  }
 },
 "nbformat": 4,
 "nbformat_minor": 5
}
